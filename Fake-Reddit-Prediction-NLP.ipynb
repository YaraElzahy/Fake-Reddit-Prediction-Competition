{
 "cells": [
  {
   "cell_type": "markdown",
   "id": "e2efb6e1",
   "metadata": {
    "id": "e2efb6e1"
   },
   "source": [
    "<div>\n",
    "    <p><b>Username: </b>yaraelzahy</p>\n",
    "    <p><b>Displayed Name: </b> Yara Elzahy</p>\n",
    "    <p><b>ID: </b>20398570</p>\n",
    "</div>"
   ]
  },
  {
   "cell_type": "markdown",
   "id": "896aa3ef",
   "metadata": {
    "id": "896aa3ef"
   },
   "source": [
    "# Fake Reddit Prediction Competition 🎯"
   ]
  },
  {
   "cell_type": "markdown",
   "id": "8ccd8733",
   "metadata": {
    "id": "8ccd8733"
   },
   "source": [
    "## Questions ❓\n",
    "\n",
    "#### 🌈 What is the difference between Character n-gram and Word n-gram? Which one tends to suffer more from the OOV issue?\n",
    " **Difference between character n-gram and word n-gram:**\n",
    "<ul>\n",
    "    <li>Character and word n-grams can both be found in text documents; however the difference is that character n-grams portray the document as a sequence of characters, while Word n-grams describe the document as a sequence of words.</li>\n",
    "    <li>There are more character N-gram repetitions than word N-gram repetitions in a given language document.</li>\n",
    "    <li>A character N-gram split reveals some common traits that a word N-gram split does not.</li>\n",
    "    <li>Character N-grams make languages more similar, displaying more repetition.</li>\n",
    "</ul>\n",
    "\n",
    "Word n-grams are the ones that will suffer more from out-of-vocabulary issue.\n",
    "\n",
    "\n",
    "\n",
    "#### 🌈 What is the difference between stop word removal and stemming? Are these techniques language-dependent?\n",
    "\n",
    "Both are important text preprocessing techniques, but the main difference is that stop word removal completely removes some predefined words that it knows from the sentence and keeps a list of these words, whereas stemming is about reducing the word and returning it to its root, such as removing suffixes and prefixes rather than removing the entire word, e.g playing -> play, and so on. Abd yes, these techniques are language-dependent.\n",
    "\n",
    "#### 🌈 Is tokenization techniques language dependent? Why?\n",
    "\n",
    "Tokenization splits a block of text into individual words using a specified delimiter. Different word-level tokens are generated based on the delimiters, not the language. Therefore it is language dependent, because it has to know the meaning of each word to split it depending on language, e.g. wasn't>> wasn't>>wasn't>>wasn't>>wasn t >>. \n",
    "\n",
    "These are all tokenization possibilities, but some of them are meaningless in the language.\n",
    "\n",
    "\n",
    "#### 🌈 What is the difference between count vectorizer and tf-idf vectorizer? Would it be feasible to use all possible n-grams? If not, how should you select them?\n",
    "\n",
    "TfidfVectorizer and CountVectorizer are both approaches for transforming text input to vectors because the model can only analyse numerical data.\n",
    "\n",
    "The Count Vectorizer counts the number of times a word appears in a text (using a bag-of-words technique), whereas the TF-IDF Vectorizer considers not only the number of times a word appears in a document, but also how significant that word is to the entire corpus.\n",
    "\n",
    "it wouldn't be feasiable to use all possible n-grams.\n",
    "Creating n-gram ranges that use bigrams or trigrams can significantly increase classification accuracy because they can catch more complex expressions created by the combination of more than one word. The reasoning is that the outcome of Sentiment Analysis is determined not only by the frequency of words but also by how they are mixed.\n",
    "\n",
    "N-gram range sets if features to be used to characterize texts will be:\n",
    "Unigrams or words (n-gram size = 1)\n",
    "Bigrams or terms compounded by two words (n-gram size = 2)\n",
    "Trigrams or terms compounded by up to three words (n-gram size = 3)\n",
    "\n",
    "\n",
    "\n",
    "## Problem Formulation:\n",
    "\n",
    "### Problem Definition\n",
    "\n",
    "False information on the Internet has caused a rise of social concerns as a result of the expansion of social networks and their involvement in other domains such as politics. We'll use the headline of a Reddit post to determine whether it's fake news or not.\n",
    "\n",
    "\n",
    "### Input\n",
    "The input is the text feature, which contains a wide range of forms of words.\n",
    "\n",
    "\n",
    "### Output\n",
    "Whether or not a particular Reddit post is fake news. The label column is output from the dataset.\n",
    "\n",
    "\n",
    "### What data mining function is required?\n",
    "\n",
    "In this scenario, binary classification will be used to divide data points into multiple classes (fake: 0 or not fake: 1) to determine whether a certain reddit post is fake news or not.\n",
    "\n",
    "\n",
    "### What could be the challenges?\n",
    "<ul>\n",
    "     <li>The data contains multiple word forms.</li>\n",
    "     <li>The datasets contain outlier values.</li>\n",
    "     <li>By looking at the title of a certain Reddit post, you may anticipate if it is fake news or not.</li>\n",
    "</ul>\n",
    "\n",
    "\n",
    "\n",
    "### What is the impact?\n",
    "\n",
    "Limiting the spread of rumours and misleading news\n",
    "\n",
    "\n",
    "### What preprocessing steps are used?\n",
    "\n",
    "<ol>\n",
    "    <li>Remove outliers.</li>\n",
    "    <li>Cleaning and preprocessing the text.</li>\n",
    "    <li>Compute the frequency of the words.</li>\n",
    "</ol>\n",
    "\n",
    "### What is the experimental protocol used and how was it carried out?\n",
    "\n",
    "<ol>\n",
    "    <li>Read the data from csv files</li>\n",
    "    <li>Clean the text by removing any html tags, digits, single letter chars, stopwords, punctuation, the noise data, convert all whitespaces to single whitespace and perform stemming.</li>\n",
    "    <li>Split the training dataset into training data and validation data.</li>\n",
    "    <li>Use the Cross validation to obtain well-trained models.</li>\n",
    "    <li>Determine the optimal hyperparameter combination for a given model using GridSearch, RandomSearch and BayesianSearch.</li>\n",
    "    <li>Use XGBoost, Random Forest and Logistic Regression to fit the model.</li>   \n",
    "</ol>\n",
    "\n",
    "\n",
    "### What is an ideal solution?\n",
    "\n",
    "According to my following trials, the best strategy is the **GridSearch, validation set and logistic regression model with word-level vectorizer (Trial 1)** because it gives me the highest score on kaggle.\n",
    "\n",
    "<ul>\n",
    "    <li>colab score: 0.88810</li>\n",
    "    <li>private score: 0.85803</li>\n",
    "</ul>"
   ]
  },
  {
   "cell_type": "markdown",
   "id": "2b23cb75",
   "metadata": {
    "id": "2b23cb75"
   },
   "source": [
    "## Import Libraries"
   ]
  },
  {
   "cell_type": "code",
   "execution_count": 1,
   "id": "3e3bdf14",
   "metadata": {
    "id": "3e3bdf14"
   },
   "outputs": [
    {
     "data": {
      "text/html": [
       "<div class=\"bk-root\">\n",
       "        <a href=\"https://bokeh.org\" target=\"_blank\" class=\"bk-logo bk-logo-small bk-logo-notebook\"></a>\n",
       "        <span id=\"1002\">Loading BokehJS ...</span>\n",
       "    </div>\n"
      ]
     },
     "metadata": {},
     "output_type": "display_data"
    },
    {
     "data": {
      "application/javascript": [
       "(function(root) {\n",
       "  function now() {\n",
       "    return new Date();\n",
       "  }\n",
       "\n",
       "  const force = true;\n",
       "\n",
       "  if (typeof root._bokeh_onload_callbacks === \"undefined\" || force === true) {\n",
       "    root._bokeh_onload_callbacks = [];\n",
       "    root._bokeh_is_loading = undefined;\n",
       "  }\n",
       "\n",
       "const JS_MIME_TYPE = 'application/javascript';\n",
       "  const HTML_MIME_TYPE = 'text/html';\n",
       "  const EXEC_MIME_TYPE = 'application/vnd.bokehjs_exec.v0+json';\n",
       "  const CLASS_NAME = 'output_bokeh rendered_html';\n",
       "\n",
       "  /**\n",
       "   * Render data to the DOM node\n",
       "   */\n",
       "  function render(props, node) {\n",
       "    const script = document.createElement(\"script\");\n",
       "    node.appendChild(script);\n",
       "  }\n",
       "\n",
       "  /**\n",
       "   * Handle when an output is cleared or removed\n",
       "   */\n",
       "  function handleClearOutput(event, handle) {\n",
       "    const cell = handle.cell;\n",
       "\n",
       "    const id = cell.output_area._bokeh_element_id;\n",
       "    const server_id = cell.output_area._bokeh_server_id;\n",
       "    // Clean up Bokeh references\n",
       "    if (id != null && id in Bokeh.index) {\n",
       "      Bokeh.index[id].model.document.clear();\n",
       "      delete Bokeh.index[id];\n",
       "    }\n",
       "\n",
       "    if (server_id !== undefined) {\n",
       "      // Clean up Bokeh references\n",
       "      const cmd_clean = \"from bokeh.io.state import curstate; print(curstate().uuid_to_server['\" + server_id + \"'].get_sessions()[0].document.roots[0]._id)\";\n",
       "      cell.notebook.kernel.execute(cmd_clean, {\n",
       "        iopub: {\n",
       "          output: function(msg) {\n",
       "            const id = msg.content.text.trim();\n",
       "            if (id in Bokeh.index) {\n",
       "              Bokeh.index[id].model.document.clear();\n",
       "              delete Bokeh.index[id];\n",
       "            }\n",
       "          }\n",
       "        }\n",
       "      });\n",
       "      // Destroy server and session\n",
       "      const cmd_destroy = \"import bokeh.io.notebook as ion; ion.destroy_server('\" + server_id + \"')\";\n",
       "      cell.notebook.kernel.execute(cmd_destroy);\n",
       "    }\n",
       "  }\n",
       "\n",
       "  /**\n",
       "   * Handle when a new output is added\n",
       "   */\n",
       "  function handleAddOutput(event, handle) {\n",
       "    const output_area = handle.output_area;\n",
       "    const output = handle.output;\n",
       "\n",
       "    // limit handleAddOutput to display_data with EXEC_MIME_TYPE content only\n",
       "    if ((output.output_type != \"display_data\") || (!Object.prototype.hasOwnProperty.call(output.data, EXEC_MIME_TYPE))) {\n",
       "      return\n",
       "    }\n",
       "\n",
       "    const toinsert = output_area.element.find(\".\" + CLASS_NAME.split(' ')[0]);\n",
       "\n",
       "    if (output.metadata[EXEC_MIME_TYPE][\"id\"] !== undefined) {\n",
       "      toinsert[toinsert.length - 1].firstChild.textContent = output.data[JS_MIME_TYPE];\n",
       "      // store reference to embed id on output_area\n",
       "      output_area._bokeh_element_id = output.metadata[EXEC_MIME_TYPE][\"id\"];\n",
       "    }\n",
       "    if (output.metadata[EXEC_MIME_TYPE][\"server_id\"] !== undefined) {\n",
       "      const bk_div = document.createElement(\"div\");\n",
       "      bk_div.innerHTML = output.data[HTML_MIME_TYPE];\n",
       "      const script_attrs = bk_div.children[0].attributes;\n",
       "      for (let i = 0; i < script_attrs.length; i++) {\n",
       "        toinsert[toinsert.length - 1].firstChild.setAttribute(script_attrs[i].name, script_attrs[i].value);\n",
       "        toinsert[toinsert.length - 1].firstChild.textContent = bk_div.children[0].textContent\n",
       "      }\n",
       "      // store reference to server id on output_area\n",
       "      output_area._bokeh_server_id = output.metadata[EXEC_MIME_TYPE][\"server_id\"];\n",
       "    }\n",
       "  }\n",
       "\n",
       "  function register_renderer(events, OutputArea) {\n",
       "\n",
       "    function append_mime(data, metadata, element) {\n",
       "      // create a DOM node to render to\n",
       "      const toinsert = this.create_output_subarea(\n",
       "        metadata,\n",
       "        CLASS_NAME,\n",
       "        EXEC_MIME_TYPE\n",
       "      );\n",
       "      this.keyboard_manager.register_events(toinsert);\n",
       "      // Render to node\n",
       "      const props = {data: data, metadata: metadata[EXEC_MIME_TYPE]};\n",
       "      render(props, toinsert[toinsert.length - 1]);\n",
       "      element.append(toinsert);\n",
       "      return toinsert\n",
       "    }\n",
       "\n",
       "    /* Handle when an output is cleared or removed */\n",
       "    events.on('clear_output.CodeCell', handleClearOutput);\n",
       "    events.on('delete.Cell', handleClearOutput);\n",
       "\n",
       "    /* Handle when a new output is added */\n",
       "    events.on('output_added.OutputArea', handleAddOutput);\n",
       "\n",
       "    /**\n",
       "     * Register the mime type and append_mime function with output_area\n",
       "     */\n",
       "    OutputArea.prototype.register_mime_type(EXEC_MIME_TYPE, append_mime, {\n",
       "      /* Is output safe? */\n",
       "      safe: true,\n",
       "      /* Index of renderer in `output_area.display_order` */\n",
       "      index: 0\n",
       "    });\n",
       "  }\n",
       "\n",
       "  // register the mime type if in Jupyter Notebook environment and previously unregistered\n",
       "  if (root.Jupyter !== undefined) {\n",
       "    const events = require('base/js/events');\n",
       "    const OutputArea = require('notebook/js/outputarea').OutputArea;\n",
       "\n",
       "    if (OutputArea.prototype.mime_types().indexOf(EXEC_MIME_TYPE) == -1) {\n",
       "      register_renderer(events, OutputArea);\n",
       "    }\n",
       "  }\n",
       "  if (typeof (root._bokeh_timeout) === \"undefined\" || force === true) {\n",
       "    root._bokeh_timeout = Date.now() + 5000;\n",
       "    root._bokeh_failed_load = false;\n",
       "  }\n",
       "\n",
       "  const NB_LOAD_WARNING = {'data': {'text/html':\n",
       "     \"<div style='background-color: #fdd'>\\n\"+\n",
       "     \"<p>\\n\"+\n",
       "     \"BokehJS does not appear to have successfully loaded. If loading BokehJS from CDN, this \\n\"+\n",
       "     \"may be due to a slow or bad network connection. Possible fixes:\\n\"+\n",
       "     \"</p>\\n\"+\n",
       "     \"<ul>\\n\"+\n",
       "     \"<li>re-rerun `output_notebook()` to attempt to load from CDN again, or</li>\\n\"+\n",
       "     \"<li>use INLINE resources instead, as so:</li>\\n\"+\n",
       "     \"</ul>\\n\"+\n",
       "     \"<code>\\n\"+\n",
       "     \"from bokeh.resources import INLINE\\n\"+\n",
       "     \"output_notebook(resources=INLINE)\\n\"+\n",
       "     \"</code>\\n\"+\n",
       "     \"</div>\"}};\n",
       "\n",
       "  function display_loaded() {\n",
       "    const el = document.getElementById(\"1002\");\n",
       "    if (el != null) {\n",
       "      el.textContent = \"BokehJS is loading...\";\n",
       "    }\n",
       "    if (root.Bokeh !== undefined) {\n",
       "      if (el != null) {\n",
       "        el.textContent = \"BokehJS \" + root.Bokeh.version + \" successfully loaded.\";\n",
       "      }\n",
       "    } else if (Date.now() < root._bokeh_timeout) {\n",
       "      setTimeout(display_loaded, 100)\n",
       "    }\n",
       "  }\n",
       "\n",
       "  function run_callbacks() {\n",
       "    try {\n",
       "      root._bokeh_onload_callbacks.forEach(function(callback) {\n",
       "        if (callback != null)\n",
       "          callback();\n",
       "      });\n",
       "    } finally {\n",
       "      delete root._bokeh_onload_callbacks\n",
       "    }\n",
       "    console.debug(\"Bokeh: all callbacks have finished\");\n",
       "  }\n",
       "\n",
       "  function load_libs(css_urls, js_urls, callback) {\n",
       "    if (css_urls == null) css_urls = [];\n",
       "    if (js_urls == null) js_urls = [];\n",
       "\n",
       "    root._bokeh_onload_callbacks.push(callback);\n",
       "    if (root._bokeh_is_loading > 0) {\n",
       "      console.debug(\"Bokeh: BokehJS is being loaded, scheduling callback at\", now());\n",
       "      return null;\n",
       "    }\n",
       "    if (js_urls == null || js_urls.length === 0) {\n",
       "      run_callbacks();\n",
       "      return null;\n",
       "    }\n",
       "    console.debug(\"Bokeh: BokehJS not loaded, scheduling load and callback at\", now());\n",
       "    root._bokeh_is_loading = css_urls.length + js_urls.length;\n",
       "\n",
       "    function on_load() {\n",
       "      root._bokeh_is_loading--;\n",
       "      if (root._bokeh_is_loading === 0) {\n",
       "        console.debug(\"Bokeh: all BokehJS libraries/stylesheets loaded\");\n",
       "        run_callbacks()\n",
       "      }\n",
       "    }\n",
       "\n",
       "    function on_error(url) {\n",
       "      console.error(\"failed to load \" + url);\n",
       "    }\n",
       "\n",
       "    for (let i = 0; i < css_urls.length; i++) {\n",
       "      const url = css_urls[i];\n",
       "      const element = document.createElement(\"link\");\n",
       "      element.onload = on_load;\n",
       "      element.onerror = on_error.bind(null, url);\n",
       "      element.rel = \"stylesheet\";\n",
       "      element.type = \"text/css\";\n",
       "      element.href = url;\n",
       "      console.debug(\"Bokeh: injecting link tag for BokehJS stylesheet: \", url);\n",
       "      document.body.appendChild(element);\n",
       "    }\n",
       "\n",
       "    for (let i = 0; i < js_urls.length; i++) {\n",
       "      const url = js_urls[i];\n",
       "      const element = document.createElement('script');\n",
       "      element.onload = on_load;\n",
       "      element.onerror = on_error.bind(null, url);\n",
       "      element.async = false;\n",
       "      element.src = url;\n",
       "      console.debug(\"Bokeh: injecting script tag for BokehJS library: \", url);\n",
       "      document.head.appendChild(element);\n",
       "    }\n",
       "  };\n",
       "\n",
       "  function inject_raw_css(css) {\n",
       "    const element = document.createElement(\"style\");\n",
       "    element.appendChild(document.createTextNode(css));\n",
       "    document.body.appendChild(element);\n",
       "  }\n",
       "\n",
       "  const js_urls = [\"https://cdn.bokeh.org/bokeh/release/bokeh-2.4.3.min.js\", \"https://cdn.bokeh.org/bokeh/release/bokeh-gl-2.4.3.min.js\", \"https://cdn.bokeh.org/bokeh/release/bokeh-widgets-2.4.3.min.js\", \"https://cdn.bokeh.org/bokeh/release/bokeh-tables-2.4.3.min.js\", \"https://cdn.bokeh.org/bokeh/release/bokeh-mathjax-2.4.3.min.js\", \"https://unpkg.com/@holoviz/panel@0.14.3/dist/panel.min.js\"];\n",
       "  const css_urls = [];\n",
       "\n",
       "  const inline_js = [    function(Bokeh) {\n",
       "      Bokeh.set_log_level(\"info\");\n",
       "    },\n",
       "function(Bokeh) {\n",
       "    }\n",
       "  ];\n",
       "\n",
       "  function run_inline_js() {\n",
       "    if (root.Bokeh !== undefined || force === true) {\n",
       "          for (let i = 0; i < inline_js.length; i++) {\n",
       "      inline_js[i].call(root, root.Bokeh);\n",
       "    }\n",
       "if (force === true) {\n",
       "        display_loaded();\n",
       "      }} else if (Date.now() < root._bokeh_timeout) {\n",
       "      setTimeout(run_inline_js, 100);\n",
       "    } else if (!root._bokeh_failed_load) {\n",
       "      console.log(\"Bokeh: BokehJS failed to load within specified timeout.\");\n",
       "      root._bokeh_failed_load = true;\n",
       "    } else if (force !== true) {\n",
       "      const cell = $(document.getElementById(\"1002\")).parents('.cell').data().cell;\n",
       "      cell.output_area.append_execute_result(NB_LOAD_WARNING)\n",
       "    }\n",
       "  }\n",
       "\n",
       "  if (root._bokeh_is_loading === 0) {\n",
       "    console.debug(\"Bokeh: BokehJS loaded, going straight to plotting\");\n",
       "    run_inline_js();\n",
       "  } else {\n",
       "    load_libs(css_urls, js_urls, function() {\n",
       "      console.debug(\"Bokeh: BokehJS plotting callback run at\", now());\n",
       "      run_inline_js();\n",
       "    });\n",
       "  }\n",
       "}(window));"
      ],
      "application/vnd.bokehjs_load.v0+json": "(function(root) {\n  function now() {\n    return new Date();\n  }\n\n  const force = true;\n\n  if (typeof root._bokeh_onload_callbacks === \"undefined\" || force === true) {\n    root._bokeh_onload_callbacks = [];\n    root._bokeh_is_loading = undefined;\n  }\n\n\n  if (typeof (root._bokeh_timeout) === \"undefined\" || force === true) {\n    root._bokeh_timeout = Date.now() + 5000;\n    root._bokeh_failed_load = false;\n  }\n\n  const NB_LOAD_WARNING = {'data': {'text/html':\n     \"<div style='background-color: #fdd'>\\n\"+\n     \"<p>\\n\"+\n     \"BokehJS does not appear to have successfully loaded. If loading BokehJS from CDN, this \\n\"+\n     \"may be due to a slow or bad network connection. Possible fixes:\\n\"+\n     \"</p>\\n\"+\n     \"<ul>\\n\"+\n     \"<li>re-rerun `output_notebook()` to attempt to load from CDN again, or</li>\\n\"+\n     \"<li>use INLINE resources instead, as so:</li>\\n\"+\n     \"</ul>\\n\"+\n     \"<code>\\n\"+\n     \"from bokeh.resources import INLINE\\n\"+\n     \"output_notebook(resources=INLINE)\\n\"+\n     \"</code>\\n\"+\n     \"</div>\"}};\n\n  function display_loaded() {\n    const el = document.getElementById(\"1002\");\n    if (el != null) {\n      el.textContent = \"BokehJS is loading...\";\n    }\n    if (root.Bokeh !== undefined) {\n      if (el != null) {\n        el.textContent = \"BokehJS \" + root.Bokeh.version + \" successfully loaded.\";\n      }\n    } else if (Date.now() < root._bokeh_timeout) {\n      setTimeout(display_loaded, 100)\n    }\n  }\n\n  function run_callbacks() {\n    try {\n      root._bokeh_onload_callbacks.forEach(function(callback) {\n        if (callback != null)\n          callback();\n      });\n    } finally {\n      delete root._bokeh_onload_callbacks\n    }\n    console.debug(\"Bokeh: all callbacks have finished\");\n  }\n\n  function load_libs(css_urls, js_urls, callback) {\n    if (css_urls == null) css_urls = [];\n    if (js_urls == null) js_urls = [];\n\n    root._bokeh_onload_callbacks.push(callback);\n    if (root._bokeh_is_loading > 0) {\n      console.debug(\"Bokeh: BokehJS is being loaded, scheduling callback at\", now());\n      return null;\n    }\n    if (js_urls == null || js_urls.length === 0) {\n      run_callbacks();\n      return null;\n    }\n    console.debug(\"Bokeh: BokehJS not loaded, scheduling load and callback at\", now());\n    root._bokeh_is_loading = css_urls.length + js_urls.length;\n\n    function on_load() {\n      root._bokeh_is_loading--;\n      if (root._bokeh_is_loading === 0) {\n        console.debug(\"Bokeh: all BokehJS libraries/stylesheets loaded\");\n        run_callbacks()\n      }\n    }\n\n    function on_error(url) {\n      console.error(\"failed to load \" + url);\n    }\n\n    for (let i = 0; i < css_urls.length; i++) {\n      const url = css_urls[i];\n      const element = document.createElement(\"link\");\n      element.onload = on_load;\n      element.onerror = on_error.bind(null, url);\n      element.rel = \"stylesheet\";\n      element.type = \"text/css\";\n      element.href = url;\n      console.debug(\"Bokeh: injecting link tag for BokehJS stylesheet: \", url);\n      document.body.appendChild(element);\n    }\n\n    for (let i = 0; i < js_urls.length; i++) {\n      const url = js_urls[i];\n      const element = document.createElement('script');\n      element.onload = on_load;\n      element.onerror = on_error.bind(null, url);\n      element.async = false;\n      element.src = url;\n      console.debug(\"Bokeh: injecting script tag for BokehJS library: \", url);\n      document.head.appendChild(element);\n    }\n  };\n\n  function inject_raw_css(css) {\n    const element = document.createElement(\"style\");\n    element.appendChild(document.createTextNode(css));\n    document.body.appendChild(element);\n  }\n\n  const js_urls = [\"https://cdn.bokeh.org/bokeh/release/bokeh-2.4.3.min.js\", \"https://cdn.bokeh.org/bokeh/release/bokeh-gl-2.4.3.min.js\", \"https://cdn.bokeh.org/bokeh/release/bokeh-widgets-2.4.3.min.js\", \"https://cdn.bokeh.org/bokeh/release/bokeh-tables-2.4.3.min.js\", \"https://cdn.bokeh.org/bokeh/release/bokeh-mathjax-2.4.3.min.js\", \"https://unpkg.com/@holoviz/panel@0.14.3/dist/panel.min.js\"];\n  const css_urls = [];\n\n  const inline_js = [    function(Bokeh) {\n      Bokeh.set_log_level(\"info\");\n    },\nfunction(Bokeh) {\n    }\n  ];\n\n  function run_inline_js() {\n    if (root.Bokeh !== undefined || force === true) {\n          for (let i = 0; i < inline_js.length; i++) {\n      inline_js[i].call(root, root.Bokeh);\n    }\nif (force === true) {\n        display_loaded();\n      }} else if (Date.now() < root._bokeh_timeout) {\n      setTimeout(run_inline_js, 100);\n    } else if (!root._bokeh_failed_load) {\n      console.log(\"Bokeh: BokehJS failed to load within specified timeout.\");\n      root._bokeh_failed_load = true;\n    } else if (force !== true) {\n      const cell = $(document.getElementById(\"1002\")).parents('.cell').data().cell;\n      cell.output_area.append_execute_result(NB_LOAD_WARNING)\n    }\n  }\n\n  if (root._bokeh_is_loading === 0) {\n    console.debug(\"Bokeh: BokehJS loaded, going straight to plotting\");\n    run_inline_js();\n  } else {\n    load_libs(css_urls, js_urls, function() {\n      console.debug(\"Bokeh: BokehJS plotting callback run at\", now());\n      run_inline_js();\n    });\n  }\n}(window));"
     },
     "metadata": {},
     "output_type": "display_data"
    }
   ],
   "source": [
    "import re\n",
    "import nltk\n",
    "import pickle\n",
    "import sklearn\n",
    "import warnings\n",
    "import numpy as np\n",
    "import pandas as pd\n",
    "import holoviews as hv\n",
    "from pathlib import Path\n",
    "from bokeh.io import output_notebook\n",
    "from pandas.core.frame import DataFrame\n",
    "\n",
    "output_notebook()\n",
    "warnings.filterwarnings(\"ignore\")\n",
    "\n",
    "np.random.seed(0)\n",
    "\n",
    "# some settings for pandas and hvplot\n",
    "pd.options.display.max_columns = 100\n",
    "pd.options.display.max_rows = 300\n",
    "pd.options.display.max_colwidth = 100\n",
    "np.set_printoptions(threshold=2000)"
   ]
  },
  {
   "cell_type": "code",
   "execution_count": 2,
   "id": "3fdbdd3f",
   "metadata": {
    "id": "3fdbdd3f"
   },
   "outputs": [],
   "source": [
    "from sklearn.svm import LinearSVC\n",
    "from xgboost import XGBClassifier\n",
    "from nltk.corpus import stopwords #remove the low-level information from our text in order to give more focus to the important\n",
    "from sklearn.pipeline import Pipeline\n",
    "from nltk.tokenize import word_tokenize\n",
    "from sklearn.pipeline import make_pipeline\n",
    "from nltk.stem.snowball import SnowballStemmer\n",
    "from sklearn.neural_network import MLPClassifier\n",
    "from sklearn.multiclass import OneVsRestClassifier\n",
    "from sklearn.ensemble import RandomForestClassifier # to use RandomForestClassifier model for my data\n",
    "from sklearn.linear_model import LogisticRegression\n",
    "from sklearn.feature_extraction.text import TfidfVectorizer , CountVectorizer\n",
    "from sklearn.ensemble import RandomForestClassifier , GradientBoostingClassifier\n",
    "from sklearn.model_selection import train_test_split, GridSearchCV , RandomizedSearchCV"
   ]
  },
  {
   "cell_type": "code",
   "execution_count": 6,
   "id": "d6b6a1aa",
   "metadata": {
    "colab": {
     "base_uri": "https://localhost:8080/",
     "height": 424
    },
    "id": "d6b6a1aa",
    "outputId": "a5082a2a-90fd-4691-8ca1-b0ac8659cac5"
   },
   "outputs": [
    {
     "data": {
      "text/html": [
       "<div>\n",
       "<style scoped>\n",
       "    .dataframe tbody tr th:only-of-type {\n",
       "        vertical-align: middle;\n",
       "    }\n",
       "\n",
       "    .dataframe tbody tr th {\n",
       "        vertical-align: top;\n",
       "    }\n",
       "\n",
       "    .dataframe thead th {\n",
       "        text-align: right;\n",
       "    }\n",
       "</style>\n",
       "<table border=\"1\" class=\"dataframe\">\n",
       "  <thead>\n",
       "    <tr style=\"text-align: right;\">\n",
       "      <th></th>\n",
       "      <th>id</th>\n",
       "      <th>text</th>\n",
       "      <th>label</th>\n",
       "    </tr>\n",
       "  </thead>\n",
       "  <tbody>\n",
       "    <tr>\n",
       "      <th>0</th>\n",
       "      <td>265723</td>\n",
       "      <td>A group of friends began to volunteer at a homeless shelter after their neighbors protested. \"Se...</td>\n",
       "      <td>0</td>\n",
       "    </tr>\n",
       "    <tr>\n",
       "      <th>1</th>\n",
       "      <td>284269</td>\n",
       "      <td>British Prime Minister @Theresa_May on Nerve Attack on Former Russian Spy: \"The government has c...</td>\n",
       "      <td>0</td>\n",
       "    </tr>\n",
       "    <tr>\n",
       "      <th>2</th>\n",
       "      <td>207715</td>\n",
       "      <td>In 1961, Goodyear released a kit that allows PS2s to be brought to heel. https://m.youtube.com/w...</td>\n",
       "      <td>0</td>\n",
       "    </tr>\n",
       "    <tr>\n",
       "      <th>3</th>\n",
       "      <td>551106</td>\n",
       "      <td>Happy Birthday, Bob Barker! The Price Is Right Host on How He'd Like to Be Remembered | \"As the ...</td>\n",
       "      <td>0</td>\n",
       "    </tr>\n",
       "    <tr>\n",
       "      <th>4</th>\n",
       "      <td>8584</td>\n",
       "      <td>Obama to Nation: 聙\"Innocent Cops and Unarmed Young Black Men Should Not be Dying Before Magic Jo...</td>\n",
       "      <td>0</td>\n",
       "    </tr>\n",
       "    <tr>\n",
       "      <th>...</th>\n",
       "      <td>...</td>\n",
       "      <td>...</td>\n",
       "      <td>...</td>\n",
       "    </tr>\n",
       "    <tr>\n",
       "      <th>59995</th>\n",
       "      <td>70046</td>\n",
       "      <td>Finish Sniper Simo H盲yh盲 during the invasion of Finland by the USSR (1939, colorized)</td>\n",
       "      <td>0</td>\n",
       "    </tr>\n",
       "    <tr>\n",
       "      <th>59996</th>\n",
       "      <td>189377</td>\n",
       "      <td>Nigerian Prince Scam took $110K from Kansas man; 10 years later, he's getting it back</td>\n",
       "      <td>1</td>\n",
       "    </tr>\n",
       "    <tr>\n",
       "      <th>59997</th>\n",
       "      <td>93486</td>\n",
       "      <td>Is It Safe To Smoke Marijuana During Pregnancy? You鈥檇 Be Surprised Of The Answer | no</td>\n",
       "      <td>0</td>\n",
       "    </tr>\n",
       "    <tr>\n",
       "      <th>59998</th>\n",
       "      <td>140950</td>\n",
       "      <td>Julius Caesar upon realizing that everyone in the room has a knife except him (44 bc)</td>\n",
       "      <td>0</td>\n",
       "    </tr>\n",
       "    <tr>\n",
       "      <th>59999</th>\n",
       "      <td>34509</td>\n",
       "      <td>Jeff Bridges Releasing 鈥楽leeping Tapes,鈥?a New Album Designed to Help You Fall Asleep</td>\n",
       "      <td>1</td>\n",
       "    </tr>\n",
       "  </tbody>\n",
       "</table>\n",
       "<p>60000 rows × 3 columns</p>\n",
       "</div>"
      ],
      "text/plain": [
       "           id  \\\n",
       "0      265723   \n",
       "1      284269   \n",
       "2      207715   \n",
       "3      551106   \n",
       "4        8584   \n",
       "...       ...   \n",
       "59995   70046   \n",
       "59996  189377   \n",
       "59997   93486   \n",
       "59998  140950   \n",
       "59999   34509   \n",
       "\n",
       "                                                                                                      text  \\\n",
       "0      A group of friends began to volunteer at a homeless shelter after their neighbors protested. \"Se...   \n",
       "1      British Prime Minister @Theresa_May on Nerve Attack on Former Russian Spy: \"The government has c...   \n",
       "2      In 1961, Goodyear released a kit that allows PS2s to be brought to heel. https://m.youtube.com/w...   \n",
       "3      Happy Birthday, Bob Barker! The Price Is Right Host on How He'd Like to Be Remembered | \"As the ...   \n",
       "4      Obama to Nation: 聙\"Innocent Cops and Unarmed Young Black Men Should Not be Dying Before Magic Jo...   \n",
       "...                                                                                                    ...   \n",
       "59995                Finish Sniper Simo H盲yh盲 during the invasion of Finland by the USSR (1939, colorized)   \n",
       "59996                Nigerian Prince Scam took $110K from Kansas man; 10 years later, he's getting it back   \n",
       "59997                Is It Safe To Smoke Marijuana During Pregnancy? You鈥檇 Be Surprised Of The Answer | no   \n",
       "59998                Julius Caesar upon realizing that everyone in the room has a knife except him (44 bc)   \n",
       "59999                Jeff Bridges Releasing 鈥楽leeping Tapes,鈥?a New Album Designed to Help You Fall Asleep   \n",
       "\n",
       "       label  \n",
       "0          0  \n",
       "1          0  \n",
       "2          0  \n",
       "3          0  \n",
       "4          0  \n",
       "...      ...  \n",
       "59995      0  \n",
       "59996      1  \n",
       "59997      0  \n",
       "59998      0  \n",
       "59999      1  \n",
       "\n",
       "[60000 rows x 3 columns]"
      ]
     },
     "execution_count": 6,
     "metadata": {},
     "output_type": "execute_result"
    }
   ],
   "source": [
    "# Read train data from csv file\n",
    "np.random.seed(1)\n",
    "data = pd.read_csv(\"xy_train.csv\", sep=\",\", na_values=[\"\"])\n",
    "data"
   ]
  },
  {
   "cell_type": "markdown",
   "id": "7747f3ae",
   "metadata": {
    "id": "7747f3ae"
   },
   "source": [
    "## Check for Null values"
   ]
  },
  {
   "cell_type": "code",
   "execution_count": 7,
   "id": "baa3a8f9",
   "metadata": {
    "colab": {
     "base_uri": "https://localhost:8080/"
    },
    "id": "baa3a8f9",
    "outputId": "d985d266-58de-4523-9006-c86033a205ff"
   },
   "outputs": [
    {
     "data": {
      "text/plain": [
       "0"
      ]
     },
     "execution_count": 7,
     "metadata": {},
     "output_type": "execute_result"
    }
   ],
   "source": [
    "# print the sum of null values in our dataset\n",
    "data.isnull().sum().sum()"
   ]
  },
  {
   "cell_type": "markdown",
   "id": "f3ca52df",
   "metadata": {
    "id": "f3ca52df"
   },
   "source": [
    "There are no null values"
   ]
  },
  {
   "cell_type": "markdown",
   "id": "1b558767",
   "metadata": {
    "id": "1b558767"
   },
   "source": [
    "## Check for duplicates"
   ]
  },
  {
   "cell_type": "code",
   "execution_count": 8,
   "id": "37e0dad7",
   "metadata": {
    "colab": {
     "base_uri": "https://localhost:8080/"
    },
    "id": "37e0dad7",
    "outputId": "6b163914-f07b-4897-f4fd-54893a912ecd"
   },
   "outputs": [
    {
     "data": {
      "text/plain": [
       "0"
      ]
     },
     "execution_count": 8,
     "metadata": {},
     "output_type": "execute_result"
    }
   ],
   "source": [
    "# print the sum of duplicate values\n",
    "data.duplicated().sum()"
   ]
  },
  {
   "cell_type": "markdown",
   "id": "92a07fc2",
   "metadata": {
    "id": "92a07fc2"
   },
   "source": [
    "There are no duplicates"
   ]
  },
  {
   "cell_type": "code",
   "execution_count": 9,
   "id": "01e112b5",
   "metadata": {
    "colab": {
     "base_uri": "https://localhost:8080/"
    },
    "id": "01e112b5",
    "outputId": "33c2a8e9-ca18-4108-ac33-4de9542ecb2d"
   },
   "outputs": [
    {
     "data": {
      "text/plain": [
       "(60000, 3)"
      ]
     },
     "execution_count": 9,
     "metadata": {},
     "output_type": "execute_result"
    }
   ],
   "source": [
    "data.shape"
   ]
  },
  {
   "cell_type": "code",
   "execution_count": 10,
   "id": "adef7e34",
   "metadata": {
    "colab": {
     "base_uri": "https://localhost:8080/"
    },
    "id": "adef7e34",
    "outputId": "e0bf4664-0286-428b-cf51-f56356db9a9a"
   },
   "outputs": [
    {
     "name": "stdout",
     "output_type": "stream",
     "text": [
      "<class 'pandas.core.frame.DataFrame'>\n",
      "RangeIndex: 60000 entries, 0 to 59999\n",
      "Data columns (total 3 columns):\n",
      " #   Column  Non-Null Count  Dtype \n",
      "---  ------  --------------  ----- \n",
      " 0   id      60000 non-null  int64 \n",
      " 1   text    60000 non-null  object\n",
      " 2   label   60000 non-null  int64 \n",
      "dtypes: int64(2), object(1)\n",
      "memory usage: 1.4+ MB\n"
     ]
    }
   ],
   "source": [
    "data.info()"
   ]
  },
  {
   "cell_type": "markdown",
   "id": "b9375f72",
   "metadata": {
    "id": "b9375f72"
   },
   "source": [
    "## Check for Label Distribution"
   ]
  },
  {
   "cell_type": "code",
   "execution_count": 11,
   "id": "1cd26ccd",
   "metadata": {
    "colab": {
     "base_uri": "https://localhost:8080/"
    },
    "id": "1cd26ccd",
    "outputId": "e1535a27-3c5b-4cce-f254-c2c253df5e40"
   },
   "outputs": [
    {
     "data": {
      "text/plain": [
       "0    32172\n",
       "1    27596\n",
       "2      232\n",
       "Name: label, dtype: int64"
      ]
     },
     "execution_count": 11,
     "metadata": {},
     "output_type": "execute_result"
    }
   ],
   "source": [
    "# display unique label values' counts\n",
    "data['label'].value_counts()"
   ]
  },
  {
   "cell_type": "code",
   "execution_count": 12,
   "id": "fbaf6694",
   "metadata": {
    "colab": {
     "base_uri": "https://localhost:8080/",
     "height": 442
    },
    "id": "fbaf6694",
    "outputId": "b46a429a-4f5b-4de0-a432-ec4f40858c7e"
   },
   "outputs": [
    {
     "data": {
      "text/plain": [
       "<Axes: >"
      ]
     },
     "execution_count": 12,
     "metadata": {},
     "output_type": "execute_result"
    },
    {
     "data": {
      "image/png": "[encoded data removed]",
      "text/plain": [
       "<Figure size 640x480 with 1 Axes>"
      ]
     },
     "metadata": {},
     "output_type": "display_data"
    }
   ],
   "source": [
    "# Match distribution\n",
    "data['label'].value_counts().plot(kind='bar')"
   ]
  },
  {
   "cell_type": "markdown",
   "id": "a602bcc8",
   "metadata": {
    "id": "a602bcc8"
   },
   "source": [
    "The label values are 0 and 1 only, thus we'll remove all the rows with the label value 2 because it's an **outlier**."
   ]
  },
  {
   "cell_type": "code",
   "execution_count": 13,
   "id": "058aa1b8",
   "metadata": {
    "id": "058aa1b8"
   },
   "outputs": [],
   "source": [
    "# drop all the rows with label value of 2\n",
    "data.drop(data[(data['label'] == 2)].index, inplace=True)"
   ]
  },
  {
   "cell_type": "code",
   "execution_count": 14,
   "id": "4dbd29d7",
   "metadata": {
    "colab": {
     "base_uri": "https://localhost:8080/"
    },
    "id": "4dbd29d7",
    "outputId": "27885152-373e-42c5-955b-bc0bc28dd6e5"
   },
   "outputs": [
    {
     "data": {
      "text/plain": [
       "0    32172\n",
       "1    27596\n",
       "Name: label, dtype: int64"
      ]
     },
     "execution_count": 14,
     "metadata": {},
     "output_type": "execute_result"
    }
   ],
   "source": [
    "# check for the count of each label value after removing the outlier label\n",
    "data['label'].value_counts()"
   ]
  },
  {
   "cell_type": "code",
   "execution_count": 15,
   "id": "2f3c3cff",
   "metadata": {
    "colab": {
     "base_uri": "https://localhost:8080/",
     "height": 442
    },
    "id": "2f3c3cff",
    "outputId": "26b387ec-fd7f-444b-a8ef-46aa2eebe248",
    "scrolled": true
   },
   "outputs": [
    {
     "data": {
      "text/plain": [
       "<Axes: >"
      ]
     },
     "execution_count": 15,
     "metadata": {},
     "output_type": "execute_result"
    },
    {
     "data": {
      "image/png": "[encoded data removed]",
      "text/plain": [
       "<Figure size 640x480 with 1 Axes>"
      ]
     },
     "metadata": {},
     "output_type": "display_data"
    }
   ],
   "source": [
    "# Match distribution\n",
    "data['label'].value_counts().plot(kind='bar')"
   ]
  },
  {
   "cell_type": "markdown",
   "id": "08ddb2d2",
   "metadata": {
    "id": "08ddb2d2"
   },
   "source": [
    "## Separate Data from labels"
   ]
  },
  {
   "cell_type": "code",
   "execution_count": 16,
   "id": "3c758d47",
   "metadata": {
    "id": "3c758d47"
   },
   "outputs": [],
   "source": [
    "# remove all columns except rating (target column)\n",
    "X_train= data.drop(columns=['label', 'id'])\n",
    "\n",
    "# select only the target column \n",
    "y_train= data['label']"
   ]
  },
  {
   "cell_type": "code",
   "execution_count": 17,
   "id": "5551404c",
   "metadata": {
    "colab": {
     "base_uri": "https://localhost:8080/"
    },
    "id": "5551404c",
    "outputId": "fa06c76b-4ee9-4749-8f2e-a1c5ade689f7"
   },
   "outputs": [
    {
     "data": {
      "text/plain": [
       "((59768, 1), (59768,))"
      ]
     },
     "execution_count": 17,
     "metadata": {},
     "output_type": "execute_result"
    }
   ],
   "source": [
    "# print the shape of data and labels\n",
    "X_train.shape, y_train.shape"
   ]
  },
  {
   "cell_type": "code",
   "execution_count": 18,
   "id": "09851427",
   "metadata": {
    "colab": {
     "base_uri": "https://localhost:8080/",
     "height": 112
    },
    "id": "09851427",
    "outputId": "a762c86d-bfc5-40c8-e3f0-0763b5695712"
   },
   "outputs": [
    {
     "data": {
      "text/html": [
       "<div>\n",
       "<style scoped>\n",
       "    .dataframe tbody tr th:only-of-type {\n",
       "        vertical-align: middle;\n",
       "    }\n",
       "\n",
       "    .dataframe tbody tr th {\n",
       "        vertical-align: top;\n",
       "    }\n",
       "\n",
       "    .dataframe thead th {\n",
       "        text-align: right;\n",
       "    }\n",
       "</style>\n",
       "<table border=\"1\" class=\"dataframe\">\n",
       "  <thead>\n",
       "    <tr style=\"text-align: right;\">\n",
       "      <th></th>\n",
       "      <th>text</th>\n",
       "    </tr>\n",
       "  </thead>\n",
       "  <tbody>\n",
       "    <tr>\n",
       "      <th>0</th>\n",
       "      <td>A group of friends began to volunteer at a homeless shelter after their neighbors protested. \"Se...</td>\n",
       "    </tr>\n",
       "    <tr>\n",
       "      <th>1</th>\n",
       "      <td>British Prime Minister @Theresa_May on Nerve Attack on Former Russian Spy: \"The government has c...</td>\n",
       "    </tr>\n",
       "  </tbody>\n",
       "</table>\n",
       "</div>"
      ],
      "text/plain": [
       "                                                                                                  text\n",
       "0  A group of friends began to volunteer at a homeless shelter after their neighbors protested. \"Se...\n",
       "1  British Prime Minister @Theresa_May on Nerve Attack on Former Russian Spy: \"The government has c..."
      ]
     },
     "execution_count": 18,
     "metadata": {},
     "output_type": "execute_result"
    }
   ],
   "source": [
    "X_train.head(2)"
   ]
  },
  {
   "cell_type": "code",
   "execution_count": 19,
   "id": "990221e4",
   "metadata": {
    "colab": {
     "base_uri": "https://localhost:8080/"
    },
    "id": "990221e4",
    "outputId": "796b7774-7d2e-4a9c-f0b2-dcc37faea42f"
   },
   "outputs": [
    {
     "data": {
      "text/plain": [
       "0    0\n",
       "1    0\n",
       "Name: label, dtype: int64"
      ]
     },
     "execution_count": 19,
     "metadata": {},
     "output_type": "execute_result"
    }
   ],
   "source": [
    "y_train.head(2)"
   ]
  },
  {
   "cell_type": "markdown",
   "id": "c77a6361",
   "metadata": {
    "id": "c77a6361"
   },
   "source": [
    "## Data Cleaning and pre-processing"
   ]
  },
  {
   "cell_type": "markdown",
   "id": "aa21e5a1",
   "metadata": {
    "id": "aa21e5a1"
   },
   "source": [
    "Consistent and clean data is critical for successful modelling results. The underlying premise is the same regardless of how smart your model is: trash in, trash out. Cleaning and pre-processing in NLP can vary depending on which model you wish to employ. For our text, we shall employ frequency-based representation approaches. As a result, we perform extensive processing on the input data:"
   ]
  },
  {
   "cell_type": "code",
   "execution_count": 20,
   "id": "aa584ed9",
   "metadata": {
    "colab": {
     "base_uri": "https://localhost:8080/"
    },
    "id": "aa584ed9",
    "outputId": "fcff7d4a-7d2a-40de-8bea-fdc68469c1f0"
   },
   "outputs": [
    {
     "name": "stderr",
     "output_type": "stream",
     "text": [
      "[nltk_data] Downloading package punkt to C:\\Users\\WIN\n",
      "[nltk_data]     11\\AppData\\Roaming\\nltk_data...\n",
      "[nltk_data]   Package punkt is already up-to-date!\n",
      "[nltk_data] Downloading package stopwords to C:\\Users\\WIN\n",
      "[nltk_data]     11\\AppData\\Roaming\\nltk_data...\n",
      "[nltk_data]   Package stopwords is already up-to-date!\n"
     ]
    }
   ],
   "source": [
    "nltk.download('punkt')#download punkt pakages from nltk library\n",
    "nltk.download('stopwords')#download stopwords pakages from nltk library\n",
    "# A stop word is a commonly used word (such as “the”, “a”, “an”, “in”) that a search engine has been programmed to ignore\n",
    "stemmer = SnowballStemmer(language='english')\n",
    "stop_words = set(stopwords.words(\"english\"))"
   ]
  },
  {
   "cell_type": "code",
   "execution_count": 21,
   "id": "01d066bb",
   "metadata": {
    "id": "01d066bb"
   },
   "outputs": [],
   "source": [
    "def clean_text(text, for_embedding=True):  #will apply embedding \n",
    "    \"\"\" steps:\n",
    "        - remove any html tags (< /br> often found)\n",
    "        - Keep only ASCII + European Chars and whitespace, no digits\n",
    "        - remove single letter chars\n",
    "        - convert all whitespaces (tabs etc.) to single wspace\n",
    "        if not for embedding (but e.g. tdf-idf):\n",
    "        - all lowercase\n",
    "        - remove stopwords, punctuation and stemm\n",
    "    \"\"\"\n",
    "    RE_WSPACE = re.compile(r\"\\s+\", re.IGNORECASE)\n",
    "    RE_TAGS = re.compile(r\"<[^>]+>\")\n",
    "    RE_ASCII = re.compile(r\"[^A-Za-zÀ-ž ]\", re.IGNORECASE)\n",
    "    RE_SINGLECHAR = re.compile(r\"\\b[A-Za-zÀ-ž]\\b\", re.IGNORECASE)\n",
    "    if for_embedding:\n",
    "        # Keep punctuation\n",
    "        RE_ASCII = re.compile(r\"[^A-Za-zÀ-ž,.!? ]\", re.IGNORECASE)\n",
    "        RE_SINGLECHAR = re.compile(r\"\\b[A-Za-zÀ-ž,.!?]\\b\", re.IGNORECASE)\n",
    "\n",
    "    text = re.sub(RE_TAGS, \" \", text)\n",
    "    text = re.sub(RE_ASCII, \" \", text)\n",
    "    text = re.sub(RE_SINGLECHAR, \" \", text)\n",
    "    text = re.sub(RE_WSPACE, \" \", text)\n",
    "\n",
    "    word_tokens = word_tokenize(text)\n",
    "    words_tokens_lower = [word.lower() for word in word_tokens]\n",
    "\n",
    "    if for_embedding:\n",
    "        # no stemming, lowering and punctuation / stop words removal\n",
    "        words_filtered = word_tokens\n",
    "    else:\n",
    "        words_filtered = [\n",
    "            stemmer.stem(word) for word in words_tokens_lower if word not in stop_words\n",
    "        ]\n",
    "\n",
    "    text_clean = \" \".join(words_filtered)\n",
    "    return text_clean"
   ]
  },
  {
   "cell_type": "code",
   "execution_count": 22,
   "id": "be0eb9f0",
   "metadata": {
    "colab": {
     "base_uri": "https://localhost:8080/"
    },
    "id": "be0eb9f0",
    "outputId": "2dc84c24-f958-4291-a7f2-8fbf0a987a73",
    "scrolled": true
   },
   "outputs": [
    {
     "name": "stdout",
     "output_type": "stream",
     "text": [
      "CPU times: total: 32.7 s\n",
      "Wall time: 34.8 s\n"
     ]
    }
   ],
   "source": [
    "%%time\n",
    "# Clean Text\n",
    "# get all text data the length it greater than 20 in train dataset\n",
    "X_train[\"text_clean\"] = X_train.loc[X_train[\"text\"].str.len() > 20, \"text\"]\n",
    "\n",
    "# call clean_text method to clean the text_clean feature in the train dataset\n",
    "X_train[\"text_clean\"] = X_train[\"text_clean\"].map(\n",
    "    lambda x: clean_text(x, for_embedding=True) if isinstance(x, str) else x\n",
    ")"
   ]
  },
  {
   "cell_type": "code",
   "execution_count": 23,
   "id": "e65fa074",
   "metadata": {
    "colab": {
     "base_uri": "https://localhost:8080/",
     "height": 191
    },
    "id": "e65fa074",
    "outputId": "64219f5e-a59f-4760-a87d-f107a0034bde"
   },
   "outputs": [
    {
     "data": {
      "text/html": [
       "<div>\n",
       "<style scoped>\n",
       "    .dataframe tbody tr th:only-of-type {\n",
       "        vertical-align: middle;\n",
       "    }\n",
       "\n",
       "    .dataframe tbody tr th {\n",
       "        vertical-align: top;\n",
       "    }\n",
       "\n",
       "    .dataframe thead th {\n",
       "        text-align: right;\n",
       "    }\n",
       "</style>\n",
       "<table border=\"1\" class=\"dataframe\">\n",
       "  <thead>\n",
       "    <tr style=\"text-align: right;\">\n",
       "      <th></th>\n",
       "      <th>text</th>\n",
       "      <th>text_clean</th>\n",
       "    </tr>\n",
       "  </thead>\n",
       "  <tbody>\n",
       "    <tr>\n",
       "      <th>0</th>\n",
       "      <td>A group of friends began to volunteer at a homeless shelter after their neighbors protested. \"Se...</td>\n",
       "      <td>group of friends began to volunteer at homeless shelter after their neighbors protested . Seeing...</td>\n",
       "    </tr>\n",
       "    <tr>\n",
       "      <th>1</th>\n",
       "      <td>British Prime Minister @Theresa_May on Nerve Attack on Former Russian Spy: \"The government has c...</td>\n",
       "      <td>British Prime Minister Theresa May on Nerve Attack on Former Russian Spy The government has conc...</td>\n",
       "    </tr>\n",
       "  </tbody>\n",
       "</table>\n",
       "</div>"
      ],
      "text/plain": [
       "                                                                                                  text  \\\n",
       "0  A group of friends began to volunteer at a homeless shelter after their neighbors protested. \"Se...   \n",
       "1  British Prime Minister @Theresa_May on Nerve Attack on Former Russian Spy: \"The government has c...   \n",
       "\n",
       "                                                                                            text_clean  \n",
       "0  group of friends began to volunteer at homeless shelter after their neighbors protested . Seeing...  \n",
       "1  British Prime Minister Theresa May on Nerve Attack on Former Russian Spy The government has conc...  "
      ]
     },
     "execution_count": 23,
     "metadata": {},
     "output_type": "execute_result"
    }
   ],
   "source": [
    "X_train.head(2)"
   ]
  },
  {
   "cell_type": "code",
   "execution_count": 24,
   "id": "dd38ac40",
   "metadata": {
    "id": "dd38ac40"
   },
   "outputs": [],
   "source": [
    "# override the X_train with the cleaned text\n",
    "X_train=X_train['text_clean']\n",
    "\n",
    "# show data by dataframe \n",
    "data_train = DataFrame(X_train)"
   ]
  },
  {
   "cell_type": "markdown",
   "id": "e7b08495",
   "metadata": {
    "id": "e7b08495"
   },
   "source": [
    "### Feature creation with TF-IDF\n"
   ]
  },
  {
   "cell_type": "markdown",
   "id": "4ab663ed",
   "metadata": {
    "id": "4ab663ed"
   },
   "source": [
    "Since classification algorithms cannot directly handle text input, we must convert our comments to a numeric representation.\n",
    "A vector of numbers is constructed, with each element representing a word. Therefore, the length of the vector will equal the number of unique words."
   ]
  },
  {
   "cell_type": "code",
   "execution_count": 25,
   "id": "d5f8498f",
   "metadata": {
    "colab": {
     "base_uri": "https://localhost:8080/",
     "height": 75
    },
    "id": "d5f8498f",
    "outputId": "4cbe5419-e73f-4d5f-afba-9cf6bc050bc6"
   },
   "outputs": [
    {
     "data": {
      "text/html": [
       "<style>#sk-container-id-1 {color: black;background-color: white;}#sk-container-id-1 pre{padding: 0;}#sk-container-id-1 div.sk-toggleable {background-color: white;}#sk-container-id-1 label.sk-toggleable__label {cursor: pointer;display: block;width: 100%;margin-bottom: 0;padding: 0.3em;box-sizing: border-box;text-align: center;}#sk-container-id-1 label.sk-toggleable__label-arrow:before {content: \"▸\";float: left;margin-right: 0.25em;color: #696969;}#sk-container-id-1 label.sk-toggleable__label-arrow:hover:before {color: black;}#sk-container-id-1 div.sk-estimator:hover label.sk-toggleable__label-arrow:before {color: black;}#sk-container-id-1 div.sk-toggleable__content {max-height: 0;max-width: 0;overflow: hidden;text-align: left;background-color: #f0f8ff;}#sk-container-id-1 div.sk-toggleable__content pre {margin: 0.2em;color: black;border-radius: 0.25em;background-color: #f0f8ff;}#sk-container-id-1 input.sk-toggleable__control:checked~div.sk-toggleable__content {max-height: 200px;max-width: 100%;overflow: auto;}#sk-container-id-1 input.sk-toggleable__control:checked~label.sk-toggleable__label-arrow:before {content: \"▾\";}#sk-container-id-1 div.sk-estimator input.sk-toggleable__control:checked~label.sk-toggleable__label {background-color: #d4ebff;}#sk-container-id-1 div.sk-label input.sk-toggleable__control:checked~label.sk-toggleable__label {background-color: #d4ebff;}#sk-container-id-1 input.sk-hidden--visually {border: 0;clip: rect(1px 1px 1px 1px);clip: rect(1px, 1px, 1px, 1px);height: 1px;margin: -1px;overflow: hidden;padding: 0;position: absolute;width: 1px;}#sk-container-id-1 div.sk-estimator {font-family: monospace;background-color: #f0f8ff;border: 1px dotted black;border-radius: 0.25em;box-sizing: border-box;margin-bottom: 0.5em;}#sk-container-id-1 div.sk-estimator:hover {background-color: #d4ebff;}#sk-container-id-1 div.sk-parallel-item::after {content: \"\";width: 100%;border-bottom: 1px solid gray;flex-grow: 1;}#sk-container-id-1 div.sk-label:hover label.sk-toggleable__label {background-color: #d4ebff;}#sk-container-id-1 div.sk-serial::before {content: \"\";position: absolute;border-left: 1px solid gray;box-sizing: border-box;top: 0;bottom: 0;left: 50%;z-index: 0;}#sk-container-id-1 div.sk-serial {display: flex;flex-direction: column;align-items: center;background-color: white;padding-right: 0.2em;padding-left: 0.2em;position: relative;}#sk-container-id-1 div.sk-item {position: relative;z-index: 1;}#sk-container-id-1 div.sk-parallel {display: flex;align-items: stretch;justify-content: center;background-color: white;position: relative;}#sk-container-id-1 div.sk-item::before, #sk-container-id-1 div.sk-parallel-item::before {content: \"\";position: absolute;border-left: 1px solid gray;box-sizing: border-box;top: 0;bottom: 0;left: 50%;z-index: -1;}#sk-container-id-1 div.sk-parallel-item {display: flex;flex-direction: column;z-index: 1;position: relative;background-color: white;}#sk-container-id-1 div.sk-parallel-item:first-child::after {align-self: flex-end;width: 50%;}#sk-container-id-1 div.sk-parallel-item:last-child::after {align-self: flex-start;width: 50%;}#sk-container-id-1 div.sk-parallel-item:only-child::after {width: 0;}#sk-container-id-1 div.sk-dashed-wrapped {border: 1px dashed gray;margin: 0 0.4em 0.5em 0.4em;box-sizing: border-box;padding-bottom: 0.4em;background-color: white;}#sk-container-id-1 div.sk-label label {font-family: monospace;font-weight: bold;display: inline-block;line-height: 1.2em;}#sk-container-id-1 div.sk-label-container {text-align: center;}#sk-container-id-1 div.sk-container {/* jupyter's `normalize.less` sets `[hidden] { display: none; }` but bootstrap.min.css set `[hidden] { display: none !important; }` so we also need the `!important` here to be able to override the default hidden behavior on the sphinx rendered scikit-learn.org. See: https://github.com/scikit-learn/scikit-learn/issues/21755 */display: inline-block !important;position: relative;}#sk-container-id-1 div.sk-text-repr-fallback {display: none;}</style><div id=\"sk-container-id-1\" class=\"sk-top-container\"><div class=\"sk-text-repr-fallback\"><pre>TfidfVectorizer(max_df=0.3, min_df=10, ngram_range=(1, 2))</pre><b>In a Jupyter environment, please rerun this cell to show the HTML representation or trust the notebook. <br />On GitHub, the HTML representation is unable to render, please try loading this page with nbviewer.org.</b></div><div class=\"sk-container\" hidden><div class=\"sk-item\"><div class=\"sk-estimator sk-toggleable\"><input class=\"sk-toggleable__control sk-hidden--visually\" id=\"sk-estimator-id-1\" type=\"checkbox\" checked><label for=\"sk-estimator-id-1\" class=\"sk-toggleable__label sk-toggleable__label-arrow\">TfidfVectorizer</label><div class=\"sk-toggleable__content\"><pre>TfidfVectorizer(max_df=0.3, min_df=10, ngram_range=(1, 2))</pre></div></div></div></div></div>"
      ],
      "text/plain": [
       "TfidfVectorizer(max_df=0.3, min_df=10, ngram_range=(1, 2))"
      ]
     },
     "execution_count": 25,
     "metadata": {},
     "output_type": "execute_result"
    }
   ],
   "source": [
    "\"\"\"\n",
    "TF-IDF are word frequency scores that try to highlight words that are more interesting\n",
    "Compute unique word vector with frequencies\n",
    "exclude very uncommon (<10 obsv.) and common (>=30%) words\n",
    "use pairs of two words (ngram)\n",
    "\"\"\"\n",
    "vectorizer = TfidfVectorizer(\n",
    "    analyzer=\"word\", max_df=0.3, min_df=10, ngram_range=(1, 2), norm=\"l2\"\n",
    ")\n",
    "vectorizer.fit(X_train)"
   ]
  },
  {
   "cell_type": "code",
   "execution_count": 26,
   "id": "778cbfc6",
   "metadata": {
    "id": "778cbfc6"
   },
   "outputs": [],
   "source": [
    "# apply vector transform\n",
    "X_train_transformed = vectorizer.transform(X_train)"
   ]
  },
  {
   "cell_type": "code",
   "execution_count": 27,
   "id": "eda80796",
   "metadata": {
    "colab": {
     "base_uri": "https://localhost:8080/"
    },
    "id": "eda80796",
    "outputId": "eb6e3b07-f58e-4051-93f9-09a5c5ca0a82"
   },
   "outputs": [
    {
     "name": "stdout",
     "output_type": "stream",
     "text": [
      "X_train_transformed (59768, 21026)\n",
      "y_train (59768,)\n"
     ]
    }
   ],
   "source": [
    "print('X_train_transformed', X_train_transformed.shape)\n",
    "print('y_train', y_train.shape)"
   ]
  },
  {
   "cell_type": "code",
   "execution_count": 28,
   "id": "4e43c36e",
   "metadata": {
    "colab": {
     "base_uri": "https://localhost:8080/"
    },
    "id": "4e43c36e",
    "outputId": "3d344ead-20ec-419a-88ef-1bb62bcad04a"
   },
   "outputs": [
    {
     "name": "stdout",
     "output_type": "stream",
     "text": [
      "Unique word (ngram) vector extract:\n",
      "\n",
      " wipe              20467\n",
      "of medical        11879\n",
      "my grandfather    11148\n",
      "can someone        2715\n",
      "crop               3940\n",
      "dtype: int64\n"
     ]
    }
   ],
   "source": [
    "# Vector representation of vocabulary\n",
    "word_vector = pd.Series(vectorizer.vocabulary_).sample(5, random_state=1)\n",
    "print(f\"Unique word (ngram) vector extract:\\n\\n {word_vector}\")"
   ]
  },
  {
   "cell_type": "code",
   "execution_count": null,
   "id": "DpBhVzA3LyiF",
   "metadata": {
    "id": "DpBhVzA3LyiF"
   },
   "outputs": [],
   "source": [
    "ghdjksah"
   ]
  },
  {
   "cell_type": "markdown",
   "id": "g-C-K8IPWOSJ",
   "metadata": {
    "id": "g-C-K8IPWOSJ"
   },
   "source": [
    "## Trial 1\n",
    "\n",
    "#### Plan:\n",
    "In the 1st trial, we'll use the pipeline with GridSearch, validation set and logistic regression model with word-level vectorizer.\n",
    "\n",
    "#### Expectations:\n",
    "I anticipate a high grade because logistic regression is an excellent contender for solving these kind of problems.\n",
    "\n",
    "#### Observations:\n",
    "The best hyperparameters for this model will be:\n",
    "    **C** = 1.3,   **class_weight** = 'balanced' ,   **penalty** = 'l2' and **solver** = 'saga'\n",
    "\n",
    "\n",
    "producing the following scores:\n",
    "\n",
    "<ul>\n",
    "    <li>colab score: 0.88810</li>\n",
    "    <li>kaggle score: 0.85803</li>\n",
    "\n",
    "</ul>"
   ]
  },
  {
   "cell_type": "code",
   "execution_count": null,
   "id": "9deb6b97",
   "metadata": {
    "colab": {
     "background_save": true,
     "base_uri": "https://localhost:8080/"
    },
    "id": "9deb6b97",
    "outputId": "4a269cdd-590f-4345-9110-f9a20a4f6b51",
    "scrolled": true
   },
   "outputs": [
    {
     "name": "stdout",
     "output_type": "stream",
     "text": [
      "Fitting 5 folds for each of 40 candidates, totalling 200 fits\n",
      "Best_score = 0.8881014090211051\n",
      "Best_params = {'Log_reg__C': 1.3, 'Log_reg__class_weight': 'balanced', 'Log_reg__penalty': 'l2', 'Log_reg__solver': 'saga'}\n",
      "CPU times: user 1.93 s, sys: 227 ms, total: 2.16 s\n",
      "Wall time: 1min 33s\n"
     ]
    }
   ],
   "source": [
    "%%time\n",
    "#use pipline and gridsearch to tuning hyperparameter \n",
    "pipe_Log_reg =  Pipeline([(\"Log_reg\", LogisticRegression())])\n",
    "\n",
    "# The parameter C is the the inverse of regularization strength in Logistic Regression\n",
    "params = {\n",
    "          'Log_reg__penalty': ['l2'], # l2 regularization\n",
    "          'Log_reg__C' : [0.6,0.9,1,1.3],\n",
    "          'Log_reg__class_weight': ['balanced',None],\n",
    "          'Log_reg__solver': ['newton-cg', 'lbfgs', 'liblinear', 'sag', 'saga']\n",
    "          }\n",
    "param_grid  = GridSearchCV(\n",
    "    pipe_Log_reg, params, cv=5, verbose=1, n_jobs=2, \n",
    "    scoring='roc_auc')\n",
    "#fit X_train and y_train\n",
    "param_grid.fit(X_train_transformed,y_train)\n",
    "#print best score\n",
    "print(f'Best_score = {param_grid.best_score_}')\n",
    "#print best Params\n",
    "print(f'Best_params = {param_grid.best_params_}')"
   ]
  },
  {
   "cell_type": "markdown",
   "id": "faf504c5",
   "metadata": {
    "id": "faf504c5"
   },
   "source": [
    "### Here comes the moment of truth 🫣🥁"
   ]
  },
  {
   "cell_type": "markdown",
   "id": "be0cf7b5",
   "metadata": {
    "id": "be0cf7b5"
   },
   "source": [
    "## Prepare the test data"
   ]
  },
  {
   "cell_type": "code",
   "execution_count": 29,
   "id": "6a537ef5",
   "metadata": {
    "colab": {
     "base_uri": "https://localhost:8080/",
     "height": 112
    },
    "id": "6a537ef5",
    "outputId": "600b15a3-ed01-4bc1-ba9a-6a16ce0f064f"
   },
   "outputs": [
    {
     "data": {
      "text/html": [
       "<div>\n",
       "<style scoped>\n",
       "    .dataframe tbody tr th:only-of-type {\n",
       "        vertical-align: middle;\n",
       "    }\n",
       "\n",
       "    .dataframe tbody tr th {\n",
       "        vertical-align: top;\n",
       "    }\n",
       "\n",
       "    .dataframe thead th {\n",
       "        text-align: right;\n",
       "    }\n",
       "</style>\n",
       "<table border=\"1\" class=\"dataframe\">\n",
       "  <thead>\n",
       "    <tr style=\"text-align: right;\">\n",
       "      <th></th>\n",
       "      <th>id</th>\n",
       "      <th>text</th>\n",
       "    </tr>\n",
       "  </thead>\n",
       "  <tbody>\n",
       "    <tr>\n",
       "      <th>0</th>\n",
       "      <td>0</td>\n",
       "      <td>stargazer</td>\n",
       "    </tr>\n",
       "    <tr>\n",
       "      <th>1</th>\n",
       "      <td>1</td>\n",
       "      <td>yeah</td>\n",
       "    </tr>\n",
       "  </tbody>\n",
       "</table>\n",
       "</div>"
      ],
      "text/plain": [
       "   id        text\n",
       "0   0  stargazer \n",
       "1   1        yeah"
      ]
     },
     "execution_count": 29,
     "metadata": {},
     "output_type": "execute_result"
    }
   ],
   "source": [
    "# read test data from csv file\n",
    "df = pd.read_csv(\"x_test.csv\")\n",
    "\n",
    "# show the top 2 rows of the data\n",
    "df.head(2)"
   ]
  },
  {
   "cell_type": "code",
   "execution_count": 30,
   "id": "e84fea43",
   "metadata": {
    "id": "e84fea43"
   },
   "outputs": [],
   "source": [
    "# save a copy of th data from original file\n",
    "data_test=df.copy() \n",
    "\n",
    "# drop the id column\n",
    "data_test=data_test.drop(['id'],axis=1)"
   ]
  },
  {
   "cell_type": "code",
   "execution_count": 31,
   "id": "e1926432",
   "metadata": {
    "colab": {
     "base_uri": "https://localhost:8080/"
    },
    "id": "e1926432",
    "outputId": "d3bed02b-6104-4412-ccd5-2753b09827f2",
    "scrolled": true
   },
   "outputs": [
    {
     "name": "stdout",
     "output_type": "stream",
     "text": [
      "CPU times: total: 17.7 s\n",
      "Wall time: 19.9 s\n"
     ]
    }
   ],
   "source": [
    "%%time\n",
    "# Clean text\n",
    "data_test[\"text_clean\"] = data_test.loc[data_test[\"text\"].str.len() > 0, \"text\"]\n",
    "data_test[\"text_clean\"] = data_test[\"text_clean\"].map(\n",
    "    lambda x: clean_text(x, for_embedding=True) if isinstance(x, str) else x\n",
    ")"
   ]
  },
  {
   "cell_type": "code",
   "execution_count": 32,
   "id": "c10962b1",
   "metadata": {
    "colab": {
     "base_uri": "https://localhost:8080/",
     "height": 424
    },
    "id": "c10962b1",
    "outputId": "9010bd93-6f32-498f-c5c5-daad2fb49c53"
   },
   "outputs": [
    {
     "data": {
      "text/html": [
       "<div>\n",
       "<style scoped>\n",
       "    .dataframe tbody tr th:only-of-type {\n",
       "        vertical-align: middle;\n",
       "    }\n",
       "\n",
       "    .dataframe tbody tr th {\n",
       "        vertical-align: top;\n",
       "    }\n",
       "\n",
       "    .dataframe thead th {\n",
       "        text-align: right;\n",
       "    }\n",
       "</style>\n",
       "<table border=\"1\" class=\"dataframe\">\n",
       "  <thead>\n",
       "    <tr style=\"text-align: right;\">\n",
       "      <th></th>\n",
       "      <th>text_clean</th>\n",
       "    </tr>\n",
       "  </thead>\n",
       "  <tbody>\n",
       "    <tr>\n",
       "      <th>0</th>\n",
       "      <td>stargazer</td>\n",
       "    </tr>\n",
       "    <tr>\n",
       "      <th>1</th>\n",
       "      <td>yeah</td>\n",
       "    </tr>\n",
       "    <tr>\n",
       "      <th>2</th>\n",
       "      <td>PD Phoenix car thief gets instructions from YouTube video</td>\n",
       "    </tr>\n",
       "    <tr>\n",
       "      <th>3</th>\n",
       "      <td>As Trump Accuses Iran , He Has One Problem His Own Credibility</td>\n",
       "    </tr>\n",
       "    <tr>\n",
       "      <th>4</th>\n",
       "      <td>Believers Hezbollah</td>\n",
       "    </tr>\n",
       "    <tr>\n",
       "      <th>...</th>\n",
       "      <td>...</td>\n",
       "    </tr>\n",
       "    <tr>\n",
       "      <th>59146</th>\n",
       "      <td>Bicycle taxi drivers of New Delhi</td>\n",
       "    </tr>\n",
       "    <tr>\n",
       "      <th>59147</th>\n",
       "      <td>Trump blows up GOP formula for winning House races</td>\n",
       "    </tr>\n",
       "    <tr>\n",
       "      <th>59148</th>\n",
       "      <td>Napoleon returns from his exile on the island of Elba . March , Colourised</td>\n",
       "    </tr>\n",
       "    <tr>\n",
       "      <th>59149</th>\n",
       "      <td>Deep down he always wanted to be ballet dancer</td>\n",
       "    </tr>\n",
       "    <tr>\n",
       "      <th>59150</th>\n",
       "      <td>Toddler miraculously survives story fall landing on car</td>\n",
       "    </tr>\n",
       "  </tbody>\n",
       "</table>\n",
       "<p>59151 rows × 1 columns</p>\n",
       "</div>"
      ],
      "text/plain": [
       "                                                                       text_clean\n",
       "0                                                                       stargazer\n",
       "1                                                                            yeah\n",
       "2                       PD Phoenix car thief gets instructions from YouTube video\n",
       "3                  As Trump Accuses Iran , He Has One Problem His Own Credibility\n",
       "4                                                             Believers Hezbollah\n",
       "...                                                                           ...\n",
       "59146                                           Bicycle taxi drivers of New Delhi\n",
       "59147                          Trump blows up GOP formula for winning House races\n",
       "59148  Napoleon returns from his exile on the island of Elba . March , Colourised\n",
       "59149                              Deep down he always wanted to be ballet dancer\n",
       "59150                     Toddler miraculously survives story fall landing on car\n",
       "\n",
       "[59151 rows x 1 columns]"
      ]
     },
     "execution_count": 32,
     "metadata": {},
     "output_type": "execute_result"
    }
   ],
   "source": [
    "# assign the cleaned text to a new variable\n",
    "X_test=data_test['text_clean']\n",
    "# print the data as dataframe\n",
    "DataFrame(X_test)"
   ]
  },
  {
   "cell_type": "markdown",
   "id": "48284015",
   "metadata": {
    "id": "48284015"
   },
   "source": [
    "## Evaluate the Model"
   ]
  },
  {
   "cell_type": "code",
   "execution_count": null,
   "id": "bf21574a",
   "metadata": {
    "id": "bf21574a",
    "scrolled": true
   },
   "outputs": [],
   "source": [
    "# apply vectorization on test data \n",
    "X_test_transformed = vectorizer.transform(X_test)"
   ]
  },
  {
   "cell_type": "code",
   "execution_count": null,
   "id": "1af5a659",
   "metadata": {
    "colab": {
     "base_uri": "https://localhost:8080/"
    },
    "id": "1af5a659",
    "outputId": "202a0d41-e956-42a1-d703-a0cf16ad8c41"
   },
   "outputs": [
    {
     "name": "stdout",
     "output_type": "stream",
     "text": [
      "X_test_transformed (59151, 21026)\n"
     ]
    }
   ],
   "source": [
    "# print shape of test data \n",
    "print('X_test_transformed', X_test_transformed.shape)"
   ]
  },
  {
   "cell_type": "code",
   "execution_count": null,
   "id": "ffeb2890",
   "metadata": {
    "id": "ffeb2890"
   },
   "outputs": [],
   "source": [
    "# predict yhat\n",
    "y_pred = param_grid.predict_proba(X_test_transformed)"
   ]
  },
  {
   "cell_type": "code",
   "execution_count": null,
   "id": "cc4cfe44",
   "metadata": {
    "id": "cc4cfe44"
   },
   "outputs": [],
   "source": [
    "# save results to csv submission file\n",
    "submission = pd.DataFrame()\n",
    "\n",
    "submission['id'] = df['id']\n",
    "\n",
    "submission['label'] = y_pred[:,1]\n",
    "\n",
    "submission.to_csv('1submission.csv', index=False)"
   ]
  },
  {
   "cell_type": "markdown",
   "id": "3a3d6ea0",
   "metadata": {
    "id": "3a3d6ea0"
   },
   "source": [
    "************************"
   ]
  },
  {
   "cell_type": "markdown",
   "id": "e12175c3",
   "metadata": {
    "id": "e12175c3"
   },
   "source": [
    "## Trial 2\n",
    "Use the same technique word analyzer (TF-IDF) with xgboost and Grid Search with cross validation\n",
    "\n",
    "#### Plan:\n",
    "In the 2nd trial, we'll combine word anaylzer with an xgboost model and a Grid search with cross-validation.\n",
    "\n",
    "#### Expectations:\n",
    "The XGBoost model usually performs well with classification problems, so I believe it will give a good result.\n",
    "\n",
    "#### Observations:\n",
    "The best hyperparameters for this model will be:\n",
    " **max_depth** = 11 and **n_estimators** = 900\n",
    "\n",
    "producing the following scores:\n",
    "\n",
    "<ul>\n",
    "    <li>colab score: 0.86031</li>\n",
    "    <li>kaggle score: 0.82003</li>\n",
    "\n",
    "</ul>"
   ]
  },
  {
   "cell_type": "code",
   "execution_count": null,
   "id": "7a6ced90",
   "metadata": {
    "id": "7a6ced90",
    "outputId": "b733fe85-2ff6-48be-e0f4-28d53058adb5",
    "scrolled": true
   },
   "outputs": [
    {
     "data": {
      "text/html": [
       "<style>#sk-container-id-2 {color: black;background-color: white;}#sk-container-id-2 pre{padding: 0;}#sk-container-id-2 div.sk-toggleable {background-color: white;}#sk-container-id-2 label.sk-toggleable__label {cursor: pointer;display: block;width: 100%;margin-bottom: 0;padding: 0.3em;box-sizing: border-box;text-align: center;}#sk-container-id-2 label.sk-toggleable__label-arrow:before {content: \"▸\";float: left;margin-right: 0.25em;color: #696969;}#sk-container-id-2 label.sk-toggleable__label-arrow:hover:before {color: black;}#sk-container-id-2 div.sk-estimator:hover label.sk-toggleable__label-arrow:before {color: black;}#sk-container-id-2 div.sk-toggleable__content {max-height: 0;max-width: 0;overflow: hidden;text-align: left;background-color: #f0f8ff;}#sk-container-id-2 div.sk-toggleable__content pre {margin: 0.2em;color: black;border-radius: 0.25em;background-color: #f0f8ff;}#sk-container-id-2 input.sk-toggleable__control:checked~div.sk-toggleable__content {max-height: 200px;max-width: 100%;overflow: auto;}#sk-container-id-2 input.sk-toggleable__control:checked~label.sk-toggleable__label-arrow:before {content: \"▾\";}#sk-container-id-2 div.sk-estimator input.sk-toggleable__control:checked~label.sk-toggleable__label {background-color: #d4ebff;}#sk-container-id-2 div.sk-label input.sk-toggleable__control:checked~label.sk-toggleable__label {background-color: #d4ebff;}#sk-container-id-2 input.sk-hidden--visually {border: 0;clip: rect(1px 1px 1px 1px);clip: rect(1px, 1px, 1px, 1px);height: 1px;margin: -1px;overflow: hidden;padding: 0;position: absolute;width: 1px;}#sk-container-id-2 div.sk-estimator {font-family: monospace;background-color: #f0f8ff;border: 1px dotted black;border-radius: 0.25em;box-sizing: border-box;margin-bottom: 0.5em;}#sk-container-id-2 div.sk-estimator:hover {background-color: #d4ebff;}#sk-container-id-2 div.sk-parallel-item::after {content: \"\";width: 100%;border-bottom: 1px solid gray;flex-grow: 1;}#sk-container-id-2 div.sk-label:hover label.sk-toggleable__label {background-color: #d4ebff;}#sk-container-id-2 div.sk-serial::before {content: \"\";position: absolute;border-left: 1px solid gray;box-sizing: border-box;top: 0;bottom: 0;left: 50%;z-index: 0;}#sk-container-id-2 div.sk-serial {display: flex;flex-direction: column;align-items: center;background-color: white;padding-right: 0.2em;padding-left: 0.2em;position: relative;}#sk-container-id-2 div.sk-item {position: relative;z-index: 1;}#sk-container-id-2 div.sk-parallel {display: flex;align-items: stretch;justify-content: center;background-color: white;position: relative;}#sk-container-id-2 div.sk-item::before, #sk-container-id-2 div.sk-parallel-item::before {content: \"\";position: absolute;border-left: 1px solid gray;box-sizing: border-box;top: 0;bottom: 0;left: 50%;z-index: -1;}#sk-container-id-2 div.sk-parallel-item {display: flex;flex-direction: column;z-index: 1;position: relative;background-color: white;}#sk-container-id-2 div.sk-parallel-item:first-child::after {align-self: flex-end;width: 50%;}#sk-container-id-2 div.sk-parallel-item:last-child::after {align-self: flex-start;width: 50%;}#sk-container-id-2 div.sk-parallel-item:only-child::after {width: 0;}#sk-container-id-2 div.sk-dashed-wrapped {border: 1px dashed gray;margin: 0 0.4em 0.5em 0.4em;box-sizing: border-box;padding-bottom: 0.4em;background-color: white;}#sk-container-id-2 div.sk-label label {font-family: monospace;font-weight: bold;display: inline-block;line-height: 1.2em;}#sk-container-id-2 div.sk-label-container {text-align: center;}#sk-container-id-2 div.sk-container {/* jupyter's `normalize.less` sets `[hidden] { display: none; }` but bootstrap.min.css set `[hidden] { display: none !important; }` so we also need the `!important` here to be able to override the default hidden behavior on the sphinx rendered scikit-learn.org. See: https://github.com/scikit-learn/scikit-learn/issues/21755 */display: inline-block !important;position: relative;}#sk-container-id-2 div.sk-text-repr-fallback {display: none;}</style><div id=\"sk-container-id-2\" class=\"sk-top-container\"><div class=\"sk-text-repr-fallback\"><pre>Pipeline(steps=[(&#x27;my_classifier&#x27;,\n",
       "                 XGBClassifier(base_score=None, booster=None, callbacks=None,\n",
       "                               colsample_bylevel=None, colsample_bynode=None,\n",
       "                               colsample_bytree=0.4, early_stopping_rounds=None,\n",
       "                               enable_categorical=False, eval_metric=None,\n",
       "                               feature_types=None, gamma=None, gpu_id=None,\n",
       "                               grow_policy=None, importance_type=None,\n",
       "                               interaction_constraints=None, learning_rate=0.02,\n",
       "                               max_bin=None, max_cat_threshold=None,\n",
       "                               max_cat_to_onehot=None, max_delta_step=None,\n",
       "                               max_depth=11, max_leaves=None,\n",
       "                               min_child_weight=None, missing=nan,\n",
       "                               monotone_constraints=None, n_estimators=900,\n",
       "                               n_jobs=None, num_parallel_tree=None,\n",
       "                               predictor=None, random_state=None, ...))])</pre><b>In a Jupyter environment, please rerun this cell to show the HTML representation or trust the notebook. <br />On GitHub, the HTML representation is unable to render, please try loading this page with nbviewer.org.</b></div><div class=\"sk-container\" hidden><div class=\"sk-item sk-dashed-wrapped\"><div class=\"sk-label-container\"><div class=\"sk-label sk-toggleable\"><input class=\"sk-toggleable__control sk-hidden--visually\" id=\"sk-estimator-id-2\" type=\"checkbox\" ><label for=\"sk-estimator-id-2\" class=\"sk-toggleable__label sk-toggleable__label-arrow\">Pipeline</label><div class=\"sk-toggleable__content\"><pre>Pipeline(steps=[(&#x27;my_classifier&#x27;,\n",
       "                 XGBClassifier(base_score=None, booster=None, callbacks=None,\n",
       "                               colsample_bylevel=None, colsample_bynode=None,\n",
       "                               colsample_bytree=0.4, early_stopping_rounds=None,\n",
       "                               enable_categorical=False, eval_metric=None,\n",
       "                               feature_types=None, gamma=None, gpu_id=None,\n",
       "                               grow_policy=None, importance_type=None,\n",
       "                               interaction_constraints=None, learning_rate=0.02,\n",
       "                               max_bin=None, max_cat_threshold=None,\n",
       "                               max_cat_to_onehot=None, max_delta_step=None,\n",
       "                               max_depth=11, max_leaves=None,\n",
       "                               min_child_weight=None, missing=nan,\n",
       "                               monotone_constraints=None, n_estimators=900,\n",
       "                               n_jobs=None, num_parallel_tree=None,\n",
       "                               predictor=None, random_state=None, ...))])</pre></div></div></div><div class=\"sk-serial\"><div class=\"sk-item\"><div class=\"sk-estimator sk-toggleable\"><input class=\"sk-toggleable__control sk-hidden--visually\" id=\"sk-estimator-id-3\" type=\"checkbox\" ><label for=\"sk-estimator-id-3\" class=\"sk-toggleable__label sk-toggleable__label-arrow\">XGBClassifier</label><div class=\"sk-toggleable__content\"><pre>XGBClassifier(base_score=None, booster=None, callbacks=None,\n",
       "              colsample_bylevel=None, colsample_bynode=None,\n",
       "              colsample_bytree=0.4, early_stopping_rounds=None,\n",
       "              enable_categorical=False, eval_metric=None, feature_types=None,\n",
       "              gamma=None, gpu_id=None, grow_policy=None, importance_type=None,\n",
       "              interaction_constraints=None, learning_rate=0.02, max_bin=None,\n",
       "              max_cat_threshold=None, max_cat_to_onehot=None,\n",
       "              max_delta_step=None, max_depth=11, max_leaves=None,\n",
       "              min_child_weight=None, missing=nan, monotone_constraints=None,\n",
       "              n_estimators=900, n_jobs=None, num_parallel_tree=None,\n",
       "              predictor=None, random_state=None, ...)</pre></div></div></div></div></div></div></div>"
      ],
      "text/plain": [
       "Pipeline(steps=[('my_classifier',\n",
       "                 XGBClassifier(base_score=None, booster=None, callbacks=None,\n",
       "                               colsample_bylevel=None, colsample_bynode=None,\n",
       "                               colsample_bytree=0.4, early_stopping_rounds=None,\n",
       "                               enable_categorical=False, eval_metric=None,\n",
       "                               feature_types=None, gamma=None, gpu_id=None,\n",
       "                               grow_policy=None, importance_type=None,\n",
       "                               interaction_constraints=None, learning_rate=0.02,\n",
       "                               max_bin=None, max_cat_threshold=None,\n",
       "                               max_cat_to_onehot=None, max_delta_step=None,\n",
       "                               max_depth=11, max_leaves=None,\n",
       "                               min_child_weight=None, missing=nan,\n",
       "                               monotone_constraints=None, n_estimators=900,\n",
       "                               n_jobs=None, num_parallel_tree=None,\n",
       "                               predictor=None, random_state=None, ...))])"
      ]
     },
     "execution_count": 37,
     "metadata": {},
     "output_type": "execute_result"
    }
   ],
   "source": [
    "xgb = XGBClassifier(scale_pos_weight=1, \n",
    "                      colsample_bytree = 0.4,\n",
    "                      learning_rate=0.01,\n",
    "                       max_depth=12,\n",
    "                      n_estimators=900,\n",
    "                      subsample = 0.8,\n",
    "                      objective='binary:logistic', \n",
    "                      reg_alpha = 0.3,\n",
    "                    )\n",
    "full_pipline1 = Pipeline(\n",
    "    steps=[\n",
    "        ('my_classifier', xgb,)\n",
    "    ]\n",
    ")\n",
    "full_pipline1"
   ]
  },
  {
   "cell_type": "code",
   "execution_count": null,
   "id": "71c96e3f",
   "metadata": {
    "id": "71c96e3f"
   },
   "outputs": [],
   "source": [
    "full_pipline1 = full_pipline1.fit(X_train_transformed,y_train)    "
   ]
  },
  {
   "cell_type": "code",
   "execution_count": null,
   "id": "8cfd0046",
   "metadata": {
    "id": "8cfd0046",
    "outputId": "8d84f83c-c7fd-4b9d-d594-6f9f9d990f83",
    "scrolled": true
   },
   "outputs": [
    {
     "name": "stdout",
     "output_type": "stream",
     "text": [
      "Fitting 10 folds for each of 4 candidates, totalling 40 fits\n",
      "best score 0.8603125418671764\n",
      "best score {'my_classifier__max_depth': 11, 'my_classifier__n_estimators': 900}\n"
     ]
    }
   ],
   "source": [
    "# here we specify the search space\n",
    "param_grid = {\n",
    "      'my_classifier__n_estimators': [700,900],     \n",
    "       'my_classifier__max_depth':[7,10] ,\n",
    "     \n",
    "}\n",
    "# cv=10 means ten-fold cross-validation\n",
    "\n",
    "grid_search = GridSearchCV(\n",
    "    full_pipline1, param_grid, cv=5, verbose=1, n_jobs=2, \n",
    "    scoring='roc_auc')\n",
    "\n",
    "grid_search.fit(X_train_transformed, y_train)\n",
    "print('best score {}'.format(grid_search.best_score_))\n",
    "print('best score {}'.format(grid_search.best_params_))"
   ]
  },
  {
   "cell_type": "markdown",
   "id": "4267eea7",
   "metadata": {
    "id": "4267eea7"
   },
   "source": [
    "## Evaluate the Model"
   ]
  },
  {
   "cell_type": "code",
   "execution_count": null,
   "id": "0d0f20fc",
   "metadata": {
    "id": "0d0f20fc",
    "outputId": "b1c17f00-a23f-4d7a-a41b-ba7c5dd8cd8d"
   },
   "outputs": [
    {
     "name": "stdout",
     "output_type": "stream",
     "text": [
      "X_test_transformed (59151, 21026)\n"
     ]
    }
   ],
   "source": [
    "# print the shape of the test data \n",
    "print('X_test_transformed', X_test_transformed.shape)"
   ]
  },
  {
   "cell_type": "code",
   "execution_count": null,
   "id": "02625db3",
   "metadata": {
    "id": "02625db3"
   },
   "outputs": [],
   "source": [
    "# predict yhat \n",
    "y_pred = grid_search.predict_proba(X_test_transformed)"
   ]
  },
  {
   "cell_type": "code",
   "execution_count": null,
   "id": "qlNTSEmSgVQK",
   "metadata": {
    "id": "qlNTSEmSgVQK"
   },
   "outputs": [],
   "source": [
    "# save results to csv submission file\n",
    "submission = pd.DataFrame()\n",
    "\n",
    "submission['id'] = df['id']\n",
    "\n",
    "submission['label'] = y_pred[:,1]\n",
    "\n",
    "submission.to_csv('2submission.csv', index=False)"
   ]
  },
  {
   "cell_type": "markdown",
   "id": "e726a64f",
   "metadata": {
    "id": "e726a64f"
   },
   "source": [
    "# Trial 3\n",
    "#### Plan:\n",
    "In the 3rd trial, we'll combine the Bag of Words approach (CountVectorizer) with a Logistic Regression model and a Grid search.\n",
    "\n",
    "When creating the vocabulary, it ignores terms with a document frequency strictly greater than the set threshold. This could be used to eliminate phrases that are overly common and are unlikely to aid in label prediction.\n",
    "\n",
    "#### Expectations:\n",
    "Eventhough, the bag of words is a good strategy, I believe it will not give a result as good as that in trial 1.\n",
    "\n",
    "#### Observations:\n",
    "The best hyperparameters for this model will be:\n",
    "    **C** = 0.8,   **class_weight** = 'balanced' ,   **penalty** = 'l2' and **solver** = 'newton-cg'\n",
    "\n",
    "producing the following scores:\n",
    "\n",
    "<ul>\n",
    "    <li>colab score: 0.86742</li>\n",
    "    <li>kaggle score: 0.82003</li>\n",
    "\n",
    "</ul>"
   ]
  },
  {
   "cell_type": "code",
   "execution_count": null,
   "id": "f3d68961",
   "metadata": {
    "id": "f3d68961"
   },
   "outputs": [],
   "source": [
    "# Initialize a CountVectorizer object: count_vectorizer\n",
    "Count_vec = CountVectorizer(stop_words=\"english\", analyzer='word', \n",
    "                  ngram_range=(1, 2),max_df=0.3, min_df=10, max_features=None,strip_accents='unicode',token_pattern=r'\\w{2,}')"
   ]
  },
  {
   "cell_type": "code",
   "execution_count": null,
   "id": "0f8e27da",
   "metadata": {
    "id": "0f8e27da"
   },
   "outputs": [],
   "source": [
    "# Transforms the data into a bag of words\n",
    "Count_train = Count_vec.fit(X_train)\n",
    "X_train_trans= Count_vec.transform(X_train)"
   ]
  },
  {
   "cell_type": "code",
   "execution_count": null,
   "id": "c28c076a",
   "metadata": {
    "colab": {
     "base_uri": "https://localhost:8080/"
    },
    "id": "c28c076a",
    "outputId": "83f6f603-12c6-47f2-f387-6d867f50f408"
   },
   "outputs": [
    {
     "name": "stdout",
     "output_type": "stream",
     "text": [
      "X_train_transformed (59768, 11393)\n",
      "y_train (59768,)\n"
     ]
    }
   ],
   "source": [
    "print('X_train_transformed', X_train_trans.shape)\n",
    "print('y_train', y_train.shape)"
   ]
  },
  {
   "cell_type": "code",
   "execution_count": null,
   "id": "285862d1",
   "metadata": {
    "colab": {
     "base_uri": "https://localhost:8080/"
    },
    "id": "285862d1",
    "outputId": "a97ace78-688a-4868-ab60-d9ed29ebae40"
   },
   "outputs": [
    {
     "name": "stdout",
     "output_type": "stream",
     "text": [
      "Fitting 10 folds for each of 10 candidates, totalling 100 fits\n",
      "Best_score = 0.8674246772456018\n",
      "Best_params = {'Log_reg__C': 0.8, 'Log_reg__class_weight': 'balanced', 'Log_reg__penalty': 'l2', 'Log_reg__solver': 'newton-cg'}\n",
      "CPU times: user 2.41 s, sys: 1.63 s, total: 4.04 s\n",
      "Wall time: 1min 33s\n"
     ]
    }
   ],
   "source": [
    "%%time\n",
    "pipe_Log_reg =  Pipeline([(\"Log_reg\", LogisticRegression())])\n",
    "params = {\n",
    "          'Log_reg__penalty': ['l2'],\n",
    "          'Log_reg__C' : [0.8],\n",
    "          'Log_reg__class_weight': ['balanced',None],\n",
    "          'Log_reg__solver': ['newton-cg', 'lbfgs', 'liblinear', 'sag', 'saga']\n",
    "          }\n",
    "param_grid  = GridSearchCV(\n",
    "    pipe_Log_reg, params, cv=10, verbose=1, n_jobs=2, \n",
    "    scoring='roc_auc')\n",
    "\n",
    "# fit X_train and y_train\n",
    "param_grid.fit(X_train_trans,y_train)\n",
    "\n",
    "print(f'Best_score = {param_grid.best_score_}')\n",
    "print(f'Best_params = {param_grid.best_params_}')"
   ]
  },
  {
   "cell_type": "markdown",
   "id": "924c9602",
   "metadata": {
    "id": "924c9602"
   },
   "source": [
    "## Evaluate the Model"
   ]
  },
  {
   "cell_type": "code",
   "execution_count": null,
   "id": "cccc8203",
   "metadata": {
    "colab": {
     "base_uri": "https://localhost:8080/"
    },
    "id": "cccc8203",
    "outputId": "432f72ba-c65b-478a-fdd1-b5cbb2d93e66"
   },
   "outputs": [
    {
     "name": "stdout",
     "output_type": "stream",
     "text": [
      "X_train_transformed (59151, 11393)\n"
     ]
    }
   ],
   "source": [
    "X_test=data_test['text_clean']\n",
    "X_test_trans= Count_vec.transform(X_test)\n",
    "print('X_train_transformed', X_test_trans.shape)"
   ]
  },
  {
   "cell_type": "code",
   "execution_count": null,
   "id": "91d35e7c",
   "metadata": {
    "id": "91d35e7c"
   },
   "outputs": [],
   "source": [
    "# predict the results\n",
    "y_pred2=param_grid.predict_proba(X_test_trans)\n",
    "# save the results to csv submission file\n",
    "submission = pd.DataFrame()\n",
    "\n",
    "submission['id'] = df['id']\n",
    "\n",
    "submission['label'] = y_pred2[:,1]\n",
    "\n",
    "submission.to_csv('3submission.csv', index=False)"
   ]
  },
  {
   "cell_type": "markdown",
   "id": "3fd80dc7",
   "metadata": {
    "id": "3fd80dc7"
   },
   "source": [
    "## Trial 4\n",
    "#### Plan:\n",
    "In the 4th trial, we'll use the TfidfVectorizer with a Gradient Boosting model and a grid search.\n",
    "\n",
    "#### Expectations:\n",
    "I don't expect the result to be that good.\n",
    "\n",
    "#### Observations:\n",
    "The best hyperparameters for this model will be:\n",
    "    **max_depth** = 13,   **max_features** = 'sqrt' and   **min_samples_split** = 500\n",
    "\n",
    "producing the following scores:\n",
    "\n",
    "<ul>\n",
    "    <li>colab score: 0.76701</li>\n",
    "    <li>kaggle score: 0.74172</li>"
   ]
  },
  {
   "cell_type": "code",
   "execution_count": null,
   "id": "e4b4ef9c",
   "metadata": {
    "colab": {
     "base_uri": "https://localhost:8080/",
     "height": 112
    },
    "id": "e4b4ef9c",
    "outputId": "e13861bd-e6fe-475e-9e1a-ff63c8de0325"
   },
   "outputs": [
    {
     "data": {
      "text/html": [
       "\n",
       "  <div id=\"df-8bc0bb5a-23e3-4876-8953-ad1c535482f3\">\n",
       "    <div class=\"colab-df-container\">\n",
       "      <div>\n",
       "<style scoped>\n",
       "    .dataframe tbody tr th:only-of-type {\n",
       "        vertical-align: middle;\n",
       "    }\n",
       "\n",
       "    .dataframe tbody tr th {\n",
       "        vertical-align: top;\n",
       "    }\n",
       "\n",
       "    .dataframe thead th {\n",
       "        text-align: right;\n",
       "    }\n",
       "</style>\n",
       "<table border=\"1\" class=\"dataframe\">\n",
       "  <thead>\n",
       "    <tr style=\"text-align: right;\">\n",
       "      <th></th>\n",
       "      <th>text_clean</th>\n",
       "    </tr>\n",
       "  </thead>\n",
       "  <tbody>\n",
       "    <tr>\n",
       "      <th>0</th>\n",
       "      <td>group of friends began to volunteer at homeless shelter after their neighbors protested . Seeing...</td>\n",
       "    </tr>\n",
       "    <tr>\n",
       "      <th>1</th>\n",
       "      <td>British Prime Minister Theresa May on Nerve Attack on Former Russian Spy The government has conc...</td>\n",
       "    </tr>\n",
       "  </tbody>\n",
       "</table>\n",
       "</div>\n",
       "      <button class=\"colab-df-convert\" onclick=\"convertToInteractive('df-8bc0bb5a-23e3-4876-8953-ad1c535482f3')\"\n",
       "              title=\"Convert this dataframe to an interactive table.\"\n",
       "              style=\"display:none;\">\n",
       "        \n",
       "  <svg xmlns=\"http://www.w3.org/2000/svg\" height=\"24px\"viewBox=\"0 0 24 24\"\n",
       "       width=\"24px\">\n",
       "    <path d=\"M0 0h24v24H0V0z\" fill=\"none\"/>\n",
       "    <path d=\"M18.56 5.44l.94 2.06.94-2.06 2.06-.94-2.06-.94-.94-2.06-.94 2.06-2.06.94zm-11 1L8.5 8.5l.94-2.06 2.06-.94-2.06-.94L8.5 2.5l-.94 2.06-2.06.94zm10 10l.94 2.06.94-2.06 2.06-.94-2.06-.94-.94-2.06-.94 2.06-2.06.94z\"/><path d=\"M17.41 7.96l-1.37-1.37c-.4-.4-.92-.59-1.43-.59-.52 0-1.04.2-1.43.59L10.3 9.45l-7.72 7.72c-.78.78-.78 2.05 0 2.83L4 21.41c.39.39.9.59 1.41.59.51 0 1.02-.2 1.41-.59l7.78-7.78 2.81-2.81c.8-.78.8-2.07 0-2.86zM5.41 20L4 18.59l7.72-7.72 1.47 1.35L5.41 20z\"/>\n",
       "  </svg>\n",
       "      </button>\n",
       "      \n",
       "  <style>\n",
       "    .colab-df-container {\n",
       "      display:flex;\n",
       "      flex-wrap:wrap;\n",
       "      gap: 12px;\n",
       "    }\n",
       "\n",
       "    .colab-df-convert {\n",
       "      background-color: #E8F0FE;\n",
       "      border: none;\n",
       "      border-radius: 50%;\n",
       "      cursor: pointer;\n",
       "      display: none;\n",
       "      fill: #1967D2;\n",
       "      height: 32px;\n",
       "      padding: 0 0 0 0;\n",
       "      width: 32px;\n",
       "    }\n",
       "\n",
       "    .colab-df-convert:hover {\n",
       "      background-color: #E2EBFA;\n",
       "      box-shadow: 0px 1px 2px rgba(60, 64, 67, 0.3), 0px 1px 3px 1px rgba(60, 64, 67, 0.15);\n",
       "      fill: #174EA6;\n",
       "    }\n",
       "\n",
       "    [theme=dark] .colab-df-convert {\n",
       "      background-color: #3B4455;\n",
       "      fill: #D2E3FC;\n",
       "    }\n",
       "\n",
       "    [theme=dark] .colab-df-convert:hover {\n",
       "      background-color: #434B5C;\n",
       "      box-shadow: 0px 1px 3px 1px rgba(0, 0, 0, 0.15);\n",
       "      filter: drop-shadow(0px 1px 2px rgba(0, 0, 0, 0.3));\n",
       "      fill: #FFFFFF;\n",
       "    }\n",
       "  </style>\n",
       "\n",
       "      <script>\n",
       "        const buttonEl =\n",
       "          document.querySelector('#df-8bc0bb5a-23e3-4876-8953-ad1c535482f3 button.colab-df-convert');\n",
       "        buttonEl.style.display =\n",
       "          google.colab.kernel.accessAllowed ? 'block' : 'none';\n",
       "\n",
       "        async function convertToInteractive(key) {\n",
       "          const element = document.querySelector('#df-8bc0bb5a-23e3-4876-8953-ad1c535482f3');\n",
       "          const dataTable =\n",
       "            await google.colab.kernel.invokeFunction('convertToInteractive',\n",
       "                                                     [key], {});\n",
       "          if (!dataTable) return;\n",
       "\n",
       "          const docLinkHtml = 'Like what you see? Visit the ' +\n",
       "            '<a target=\"_blank\" href=https://colab.research.google.com/notebooks/data_table.ipynb>data table notebook</a>'\n",
       "            + ' to learn more about interactive tables.';\n",
       "          element.innerHTML = '';\n",
       "          dataTable['output_type'] = 'display_data';\n",
       "          await google.colab.output.renderOutput(dataTable, element);\n",
       "          const docLink = document.createElement('div');\n",
       "          docLink.innerHTML = docLinkHtml;\n",
       "          element.appendChild(docLink);\n",
       "        }\n",
       "      </script>\n",
       "    </div>\n",
       "  </div>\n",
       "  "
      ],
      "text/plain": [
       "                                                                                            text_clean\n",
       "0  group of friends began to volunteer at homeless shelter after their neighbors protested . Seeing...\n",
       "1  British Prime Minister Theresa May on Nerve Attack on Former Russian Spy The government has conc..."
      ]
     },
     "execution_count": 46,
     "metadata": {},
     "output_type": "execute_result"
    }
   ],
   "source": [
    "data_train.head(2)"
   ]
  },
  {
   "cell_type": "code",
   "execution_count": null,
   "id": "56109cfa",
   "metadata": {
    "colab": {
     "base_uri": "https://localhost:8080/"
    },
    "id": "56109cfa",
    "outputId": "0a944493-d6ab-4ba6-c8cd-dfe3aec3758a"
   },
   "outputs": [
    {
     "name": "stdout",
     "output_type": "stream",
     "text": [
      "total time 0.598578691482544\n"
     ]
    }
   ],
   "source": [
    "import time\n",
    "start_time=time.time()\n",
    "# remove '\\\\n'\n",
    "data_train['clean_text'] = data_train['text_clean'].map(lambda x: re.sub('\\\\n',' ',str(x)))\n",
    "# remove any text starting with User... \n",
    "data_train['clean_text'] = data_train['text_clean'].map(lambda x: re.sub(\"\\[\\[User.*\",'',str(x)))\n",
    "# remove IP addresses or user IDs\n",
    "data_train['clean_text'] = data_train['text_clean'].map(lambda x: re.sub(\"\\d{1,3}\\.\\d{1,3}\\.\\d{1,3}\\.\\d{1,3}\",'',str(x)))\n",
    "#remove http links in the text\n",
    "data_train['clean_text'] = data_train['text_clean'].map(lambda x: re.sub(\"(http://.*?\\s)|(http://.*)\",'',str(x)))\n",
    "end_time=time.time()\n",
    "print(\"total time\",end_time-start_time)"
   ]
  },
  {
   "cell_type": "code",
   "execution_count": null,
   "id": "5a1bcb6a",
   "metadata": {
    "colab": {
     "base_uri": "https://localhost:8080/",
     "height": 112
    },
    "id": "5a1bcb6a",
    "outputId": "cb04ec23-678c-47a3-d642-0b6b39a53302"
   },
   "outputs": [
    {
     "data": {
      "text/html": [
       "\n",
       "  <div id=\"df-b01fbece-7b61-4b5f-9130-6b95fcac46d3\">\n",
       "    <div class=\"colab-df-container\">\n",
       "      <div>\n",
       "<style scoped>\n",
       "    .dataframe tbody tr th:only-of-type {\n",
       "        vertical-align: middle;\n",
       "    }\n",
       "\n",
       "    .dataframe tbody tr th {\n",
       "        vertical-align: top;\n",
       "    }\n",
       "\n",
       "    .dataframe thead th {\n",
       "        text-align: right;\n",
       "    }\n",
       "</style>\n",
       "<table border=\"1\" class=\"dataframe\">\n",
       "  <thead>\n",
       "    <tr style=\"text-align: right;\">\n",
       "      <th></th>\n",
       "      <th>text_clean</th>\n",
       "      <th>clean_text</th>\n",
       "    </tr>\n",
       "  </thead>\n",
       "  <tbody>\n",
       "    <tr>\n",
       "      <th>0</th>\n",
       "      <td>group of friends began to volunteer at homeless shelter after their neighbors protested . Seeing...</td>\n",
       "      <td>group of friends began to volunteer at homeless shelter after their neighbors protested . Seeing...</td>\n",
       "    </tr>\n",
       "    <tr>\n",
       "      <th>1</th>\n",
       "      <td>British Prime Minister Theresa May on Nerve Attack on Former Russian Spy The government has conc...</td>\n",
       "      <td>British Prime Minister Theresa May on Nerve Attack on Former Russian Spy The government has conc...</td>\n",
       "    </tr>\n",
       "  </tbody>\n",
       "</table>\n",
       "</div>\n",
       "      <button class=\"colab-df-convert\" onclick=\"convertToInteractive('df-b01fbece-7b61-4b5f-9130-6b95fcac46d3')\"\n",
       "              title=\"Convert this dataframe to an interactive table.\"\n",
       "              style=\"display:none;\">\n",
       "        \n",
       "  <svg xmlns=\"http://www.w3.org/2000/svg\" height=\"24px\"viewBox=\"0 0 24 24\"\n",
       "       width=\"24px\">\n",
       "    <path d=\"M0 0h24v24H0V0z\" fill=\"none\"/>\n",
       "    <path d=\"M18.56 5.44l.94 2.06.94-2.06 2.06-.94-2.06-.94-.94-2.06-.94 2.06-2.06.94zm-11 1L8.5 8.5l.94-2.06 2.06-.94-2.06-.94L8.5 2.5l-.94 2.06-2.06.94zm10 10l.94 2.06.94-2.06 2.06-.94-2.06-.94-.94-2.06-.94 2.06-2.06.94z\"/><path d=\"M17.41 7.96l-1.37-1.37c-.4-.4-.92-.59-1.43-.59-.52 0-1.04.2-1.43.59L10.3 9.45l-7.72 7.72c-.78.78-.78 2.05 0 2.83L4 21.41c.39.39.9.59 1.41.59.51 0 1.02-.2 1.41-.59l7.78-7.78 2.81-2.81c.8-.78.8-2.07 0-2.86zM5.41 20L4 18.59l7.72-7.72 1.47 1.35L5.41 20z\"/>\n",
       "  </svg>\n",
       "      </button>\n",
       "      \n",
       "  <style>\n",
       "    .colab-df-container {\n",
       "      display:flex;\n",
       "      flex-wrap:wrap;\n",
       "      gap: 12px;\n",
       "    }\n",
       "\n",
       "    .colab-df-convert {\n",
       "      background-color: #E8F0FE;\n",
       "      border: none;\n",
       "      border-radius: 50%;\n",
       "      cursor: pointer;\n",
       "      display: none;\n",
       "      fill: #1967D2;\n",
       "      height: 32px;\n",
       "      padding: 0 0 0 0;\n",
       "      width: 32px;\n",
       "    }\n",
       "\n",
       "    .colab-df-convert:hover {\n",
       "      background-color: #E2EBFA;\n",
       "      box-shadow: 0px 1px 2px rgba(60, 64, 67, 0.3), 0px 1px 3px 1px rgba(60, 64, 67, 0.15);\n",
       "      fill: #174EA6;\n",
       "    }\n",
       "\n",
       "    [theme=dark] .colab-df-convert {\n",
       "      background-color: #3B4455;\n",
       "      fill: #D2E3FC;\n",
       "    }\n",
       "\n",
       "    [theme=dark] .colab-df-convert:hover {\n",
       "      background-color: #434B5C;\n",
       "      box-shadow: 0px 1px 3px 1px rgba(0, 0, 0, 0.15);\n",
       "      filter: drop-shadow(0px 1px 2px rgba(0, 0, 0, 0.3));\n",
       "      fill: #FFFFFF;\n",
       "    }\n",
       "  </style>\n",
       "\n",
       "      <script>\n",
       "        const buttonEl =\n",
       "          document.querySelector('#df-b01fbece-7b61-4b5f-9130-6b95fcac46d3 button.colab-df-convert');\n",
       "        buttonEl.style.display =\n",
       "          google.colab.kernel.accessAllowed ? 'block' : 'none';\n",
       "\n",
       "        async function convertToInteractive(key) {\n",
       "          const element = document.querySelector('#df-b01fbece-7b61-4b5f-9130-6b95fcac46d3');\n",
       "          const dataTable =\n",
       "            await google.colab.kernel.invokeFunction('convertToInteractive',\n",
       "                                                     [key], {});\n",
       "          if (!dataTable) return;\n",
       "\n",
       "          const docLinkHtml = 'Like what you see? Visit the ' +\n",
       "            '<a target=\"_blank\" href=https://colab.research.google.com/notebooks/data_table.ipynb>data table notebook</a>'\n",
       "            + ' to learn more about interactive tables.';\n",
       "          element.innerHTML = '';\n",
       "          dataTable['output_type'] = 'display_data';\n",
       "          await google.colab.output.renderOutput(dataTable, element);\n",
       "          const docLink = document.createElement('div');\n",
       "          docLink.innerHTML = docLinkHtml;\n",
       "          element.appendChild(docLink);\n",
       "        }\n",
       "      </script>\n",
       "    </div>\n",
       "  </div>\n",
       "  "
      ],
      "text/plain": [
       "                                                                                            text_clean  \\\n",
       "0  group of friends began to volunteer at homeless shelter after their neighbors protested . Seeing...   \n",
       "1  British Prime Minister Theresa May on Nerve Attack on Former Russian Spy The government has conc...   \n",
       "\n",
       "                                                                                            clean_text  \n",
       "0  group of friends began to volunteer at homeless shelter after their neighbors protested . Seeing...  \n",
       "1  British Prime Minister Theresa May on Nerve Attack on Former Russian Spy The government has conc...  "
      ]
     },
     "execution_count": 48,
     "metadata": {},
     "output_type": "execute_result"
    }
   ],
   "source": [
    "data_train.head(2)"
   ]
  },
  {
   "cell_type": "code",
   "execution_count": null,
   "id": "5f00c7b5",
   "metadata": {
    "id": "5f00c7b5"
   },
   "outputs": [],
   "source": [
    "X_train=data_train['clean_text'] "
   ]
  },
  {
   "cell_type": "code",
   "execution_count": null,
   "id": "9fee1175",
   "metadata": {
    "id": "9fee1175"
   },
   "outputs": [],
   "source": [
    "# Instantiate the vectorizer\n",
    "vectorizer = TfidfVectorizer(\n",
    "    analyzer=\"char\", max_df=0.3, min_df=8, ngram_range=(1, 2), norm=\"l2\",token_pattern=r'\\w{1,}',stop_words='english')"
   ]
  },
  {
   "cell_type": "code",
   "execution_count": null,
   "id": "684be0e5",
   "metadata": {
    "id": "684be0e5"
   },
   "outputs": [],
   "source": [
    "# fit and transform on it the training features\n",
    "vectorizer.fit(X_train)\n",
    "X_train_word_features =vectorizer.transform(X_train)"
   ]
  },
  {
   "cell_type": "code",
   "execution_count": null,
   "id": "efe480fd",
   "metadata": {
    "colab": {
     "base_uri": "https://localhost:8080/"
    },
    "id": "efe480fd",
    "outputId": "bd0dd872-a6e8-461c-b188-9fe9d7ee5a55"
   },
   "outputs": [
    {
     "name": "stdout",
     "output_type": "stream",
     "text": [
      "X_train_transformed (59768, 667)\n",
      "y_train (59768,)\n"
     ]
    }
   ],
   "source": [
    "print('X_train_transformed', X_train_word_features.shape)\n",
    "print('y_train', y_train.shape)"
   ]
  },
  {
   "cell_type": "code",
   "execution_count": null,
   "id": "67a67f66",
   "metadata": {
    "colab": {
     "base_uri": "https://localhost:8080/"
    },
    "id": "67a67f66",
    "outputId": "c2264447-be51-4ba6-d3f7-3931fc2dfd6b"
   },
   "outputs": [
    {
     "name": "stdout",
     "output_type": "stream",
     "text": [
      "Fitting 10 folds for each of 4 candidates, totalling 40 fits\n",
      "Best_score = 0.76701201277468\n",
      "Best_params = {'Log_reg__max_depth': 13, 'Log_reg__max_features': 'sqrt', 'Log_reg__min_samples_split': 500}\n",
      "CPU times: user 19.3 s, sys: 309 ms, total: 19.6 s\n",
      "Wall time: 7min 59s\n"
     ]
    }
   ],
   "source": [
    "%%time\n",
    "pipe_Log_reg =  Pipeline([(\"Log_reg\", GradientBoostingClassifier())])\n",
    "params = {\n",
    "          'Log_reg__min_samples_split': [400,500],\n",
    "          'Log_reg__max_features' : ['sqrt'],\n",
    "          'Log_reg__max_depth': [11,13]          }\n",
    "param_grid  = GridSearchCV(\n",
    "    pipe_Log_reg, params, cv=10, verbose=1, n_jobs=2, \n",
    "    scoring='roc_auc')\n",
    "#fit X_train and y_train\n",
    "param_grid.fit(X_train_word_features,y_train)\n",
    "print(f'Best_score = {param_grid.best_score_}')\n",
    "print(f'Best_params = {param_grid.best_params_}')"
   ]
  },
  {
   "cell_type": "markdown",
   "id": "3b30dd93",
   "metadata": {
    "id": "3b30dd93"
   },
   "source": [
    "## Evaluate the Model"
   ]
  },
  {
   "cell_type": "code",
   "execution_count": null,
   "id": "5288642e",
   "metadata": {
    "colab": {
     "base_uri": "https://localhost:8080/"
    },
    "id": "5288642e",
    "outputId": "4692c4ca-28d9-411b-e443-ace69dfab6e3"
   },
   "outputs": [
    {
     "name": "stdout",
     "output_type": "stream",
     "text": [
      "total time 0.3256227970123291\n"
     ]
    }
   ],
   "source": [
    "import time\n",
    "start_time=time.time()\n",
    "# remove '\\\\n'\n",
    "data_test['clean_text'] = data_test['text_clean'].map(lambda x: re.sub('\\\\n',' ',str(x)))\n",
    "# remove any text starting with User... \n",
    "data_test['clean_text'] = data_test['text_clean'].map(lambda x: re.sub(\"\\[\\[User.*\",'',str(x)))\n",
    "# remove IP addresses or user IDs\n",
    "data_test['clean_text'] = data_test['text_clean'].map(lambda x: re.sub(\"\\d{1,3}\\.\\d{1,3}\\.\\d{1,3}\\.\\d{1,3}\",'',str(x)))\n",
    "#remove http links in the text\n",
    "data_test['clean_text'] = data_test['text_clean'].map(lambda x: re.sub(\"(http://.*?\\s)|(http://.*)\",'',str(x)))\n",
    "end_time=time.time()\n",
    "print(\"total time\",end_time-start_time)"
   ]
  },
  {
   "cell_type": "code",
   "execution_count": null,
   "id": "05f6a09f",
   "metadata": {
    "colab": {
     "base_uri": "https://localhost:8080/"
    },
    "id": "05f6a09f",
    "outputId": "771b8f2f-2c31-41ed-bdc7-b207aaed600d"
   },
   "outputs": [
    {
     "name": "stdout",
     "output_type": "stream",
     "text": [
      "X_test_transformed (59151, 667)\n"
     ]
    }
   ],
   "source": [
    "X_test=data_test['clean_text'] \n",
    "X_test_word_features = vectorizer.transform(X_test)\n",
    "print('X_test_transformed', X_test_word_features.shape)"
   ]
  },
  {
   "cell_type": "code",
   "execution_count": null,
   "id": "bc8601e6",
   "metadata": {
    "id": "bc8601e6"
   },
   "outputs": [],
   "source": [
    "y_pred3=param_grid.predict_proba(X_test_word_features)\n",
    "submission = pd.DataFrame()\n",
    "\n",
    "submission['id'] = df['id']\n",
    "\n",
    "submission['label'] = y_pred3[:,1]\n",
    "\n",
    "submission.to_csv('4submission.csv', index=False)"
   ]
  },
  {
   "cell_type": "markdown",
   "id": "540a4baa",
   "metadata": {
    "id": "540a4baa"
   },
   "source": [
    "# Trial 5\n",
    "#### Plan:\n",
    "In the 5th trial, we'll use the TfidfVectorizer with a Logistic Regression model and a random search search.\n",
    "\n",
    "#### Expectations:\n",
    "I expect using the logistic regression with TfidfVectorizer will give a good result.\n",
    "\n",
    "#### Observations:\n",
    "The best hyperparameters for this model will be:\n",
    "    **C** = 1,   **class_weight** = 'balanced' ,   **penalty** = 'l2' and **solver** = 'lbfgs'\n",
    "\n",
    "producing the following scores:\n",
    "\n",
    "<ul>\n",
    "    <li>colab score: 0.86103</li>\n",
    "    <li>kaggle score: 0.83221</li>\n",
    "\n",
    "</ul>\n"
   ]
  },
  {
   "cell_type": "code",
   "execution_count": null,
   "id": "b1617680",
   "metadata": {
    "colab": {
     "base_uri": "https://localhost:8080/"
    },
    "id": "b1617680",
    "outputId": "00c45d7f-71e8-440e-b0e4-2ec2ef5e4cb6"
   },
   "outputs": [
    {
     "name": "stdout",
     "output_type": "stream",
     "text": [
      "Fitting 2 folds for each of 10 candidates, totalling 20 fits\n",
      "best score 0.8610331713831172\n",
      "best score {'Log_reg__solver': 'lbfgs', 'Log_reg__penalty': 'l2', 'Log_reg__class_weight': 'balanced', 'Log_reg__C': 1}\n",
      "CPU times: user 3.94 s, sys: 2.77 s, total: 6.71 s\n",
      "Wall time: 35.5 s\n"
     ]
    }
   ],
   "source": [
    "%%time\n",
    "# n_jobs=2 means the cucurrent number of jobs\n",
    "# scoring depends on roc_auc\n",
    "# i used n_iter=10 \n",
    "\n",
    "pipe= Pipeline([(\"tfidf\", TfidfVectorizer(analyzer='word')),\n",
    "        ('Log_reg', LogisticRegression()\n",
    "        )])\n",
    "param_grid = {\n",
    "          'Log_reg__penalty': ['l2'], #l2 regularization\n",
    "          'Log_reg__C' : [0.6,0.9,1],#The parameter C is the the inverse of regularization strength in Logistic Regression\n",
    "          'Log_reg__class_weight': ['balanced',None],\n",
    "          'Log_reg__solver': ['newton-cg', 'lbfgs', 'liblinear']\n",
    "          }\n",
    "\n",
    "\n",
    "random = RandomizedSearchCV(\n",
    "    pipe, param_grid, cv=2, verbose=1, n_jobs=2, \n",
    "    # number of random trials\n",
    "    n_iter=10,\n",
    "    scoring='roc_auc')\n",
    "\n",
    "# fit Random_search\n",
    "random.fit(X_train, y_train)\n",
    "\n",
    "# print best_score and best_params for Random_search\n",
    "print('best score {}'.format(random.best_score_))\n",
    "print('best score {}'.format(random.best_params_))"
   ]
  },
  {
   "cell_type": "markdown",
   "id": "d3079aee",
   "metadata": {
    "id": "d3079aee"
   },
   "source": [
    "## Evaluate the Model"
   ]
  },
  {
   "cell_type": "code",
   "execution_count": null,
   "id": "3dae0054",
   "metadata": {
    "id": "3dae0054"
   },
   "outputs": [],
   "source": [
    "# save the cleaned text in a new variable\n",
    "X_test=data_test['text_clean'] \n",
    "\n",
    "# predict the results\n",
    "y_pred5=random.predict_proba(X_test)\n",
    "\n",
    "# save the results to csv submission file\n",
    "submission = pd.DataFrame()\n",
    "\n",
    "submission['id'] = df['id']\n",
    "\n",
    "submission['label'] = y_pred5[:,1]\n",
    "\n",
    "submission.to_csv('5submission.csv', index=False)"
   ]
  },
  {
   "cell_type": "markdown",
   "id": "234c4edb",
   "metadata": {
    "id": "234c4edb"
   },
   "source": [
    "### Aaaaaand"
   ]
  },
  {
   "attachments": {
    "image.png": {
     "image/png": "[encoded data removed]"
    }
   },
   "cell_type": "markdown",
   "id": "48c11aed",
   "metadata": {
    "id": "fdeeea35"
   },
   "source": [
    "![image.png](attachment:image.png)"
   ]
  },
  {
   "cell_type": "code",
   "execution_count": null,
   "id": "8a47e68c",
   "metadata": {},
   "outputs": [],
   "source": []
  }
 ],
 "metadata": {
  "accelerator": "GPU",
  "colab": {
   "provenance": []
  },
  "gpuClass": "standard",
  "kernelspec": {
   "display_name": "Python 3 (ipykernel)",
   "language": "python",
   "name": "python3"
  },
  "language_info": {
   "codemirror_mode": {
    "name": "ipython",
    "version": 3
   },
   "file_extension": ".py",
   "mimetype": "text/x-python",
   "name": "python",
   "nbconvert_exporter": "python",
   "pygments_lexer": "ipython3",
   "version": "3.10.9"
  }
 },
 "nbformat": 4,
 "nbformat_minor": 5
}
